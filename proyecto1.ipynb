{
 "cells": [
  {
   "cell_type": "code",
   "execution_count": 345,
   "metadata": {},
   "outputs": [],
   "source": [
    "import pandas as pd\n",
    "import numpy as np\n",
    "import seaborn as sb\n",
    "import matplotlib.pyplot as plt\n",
    "import random\n",
    "from sklearn.preprocessing import OneHotEncoder, StandardScaler\n",
    "from sklearn.impute import SimpleImputer\n",
    "from sklearn.pipeline import Pipeline\n",
    "from sklearn.compose import make_column_selector as selector\n",
    "from sklearn.compose import ColumnTransformer"
   ]
  },
  {
   "cell_type": "markdown",
   "metadata": {},
   "source": [
    "### Amount of rows"
   ]
  },
  {
   "cell_type": "code",
   "execution_count": 346,
   "metadata": {},
   "outputs": [
    {
     "data": {
      "text/html": [
       "<div>\n",
       "<style scoped>\n",
       "    .dataframe tbody tr th:only-of-type {\n",
       "        vertical-align: middle;\n",
       "    }\n",
       "\n",
       "    .dataframe tbody tr th {\n",
       "        vertical-align: top;\n",
       "    }\n",
       "\n",
       "    .dataframe thead th {\n",
       "        text-align: right;\n",
       "    }\n",
       "</style>\n",
       "<table border=\"1\" class=\"dataframe\">\n",
       "  <thead>\n",
       "    <tr style=\"text-align: right;\">\n",
       "      <th></th>\n",
       "      <th>CODIGO</th>\n",
       "      <th>DISTRITO</th>\n",
       "      <th>DEPARTAMENTO</th>\n",
       "      <th>MUNICIPIO</th>\n",
       "      <th>ESTABLECIMIENTO</th>\n",
       "      <th>DIRECCION</th>\n",
       "      <th>TELEFONO</th>\n",
       "      <th>SUPERVISOR</th>\n",
       "      <th>DIRECTOR</th>\n",
       "      <th>NIVEL</th>\n",
       "      <th>SECTOR</th>\n",
       "      <th>AREA</th>\n",
       "      <th>STATUS</th>\n",
       "      <th>MODALIDAD</th>\n",
       "      <th>JORNADA</th>\n",
       "      <th>PLAN</th>\n",
       "      <th>DEPARTAMENTAL</th>\n",
       "    </tr>\n",
       "  </thead>\n",
       "  <tbody>\n",
       "    <tr>\n",
       "      <th>0</th>\n",
       "      <td>16-01-0138-46</td>\n",
       "      <td>16-031</td>\n",
       "      <td>ALTA VERAPAZ</td>\n",
       "      <td>COBAN</td>\n",
       "      <td>COLEGIO COBAN</td>\n",
       "      <td>KM.2 SALIDA A SAN JUAN CHAMELCO ZONA 8</td>\n",
       "      <td>77945104</td>\n",
       "      <td>MERCEDES JOSEFINA TORRES GALVEZ</td>\n",
       "      <td>GUSTAVO ADOLFO SIERRA POP</td>\n",
       "      <td>DIVERSIFICADO</td>\n",
       "      <td>PRIVADO</td>\n",
       "      <td>URBANA</td>\n",
       "      <td>ABIERTA</td>\n",
       "      <td>MONOLINGUE</td>\n",
       "      <td>MATUTINA</td>\n",
       "      <td>DIARIO(REGULAR)</td>\n",
       "      <td>ALTA VERAPAZ</td>\n",
       "    </tr>\n",
       "    <tr>\n",
       "      <th>1</th>\n",
       "      <td>16-01-0139-46</td>\n",
       "      <td>16-031</td>\n",
       "      <td>ALTA VERAPAZ</td>\n",
       "      <td>COBAN</td>\n",
       "      <td>COLEGIO PARTICULAR MIXTO VERAPAZ</td>\n",
       "      <td>KM 209.5 ENTRADA A LA CIUDAD</td>\n",
       "      <td>77367402</td>\n",
       "      <td>MERCEDES JOSEFINA TORRES GALVEZ</td>\n",
       "      <td>GILMA DOLORES GUAY PAZ DE LEAL</td>\n",
       "      <td>DIVERSIFICADO</td>\n",
       "      <td>PRIVADO</td>\n",
       "      <td>URBANA</td>\n",
       "      <td>ABIERTA</td>\n",
       "      <td>MONOLINGUE</td>\n",
       "      <td>MATUTINA</td>\n",
       "      <td>DIARIO(REGULAR)</td>\n",
       "      <td>ALTA VERAPAZ</td>\n",
       "    </tr>\n",
       "    <tr>\n",
       "      <th>2</th>\n",
       "      <td>16-01-0140-46</td>\n",
       "      <td>16-031</td>\n",
       "      <td>ALTA VERAPAZ</td>\n",
       "      <td>COBAN</td>\n",
       "      <td>COLEGIO \"LA INMACULADA\"</td>\n",
       "      <td>7A. AVENIDA 11-109 ZONA 6</td>\n",
       "      <td>78232301</td>\n",
       "      <td>MERCEDES JOSEFINA TORRES GALVEZ</td>\n",
       "      <td>VIRGINIA SOLANO SERRANO</td>\n",
       "      <td>DIVERSIFICADO</td>\n",
       "      <td>PRIVADO</td>\n",
       "      <td>URBANA</td>\n",
       "      <td>ABIERTA</td>\n",
       "      <td>MONOLINGUE</td>\n",
       "      <td>MATUTINA</td>\n",
       "      <td>DIARIO(REGULAR)</td>\n",
       "      <td>ALTA VERAPAZ</td>\n",
       "    </tr>\n",
       "    <tr>\n",
       "      <th>3</th>\n",
       "      <td>16-01-0141-46</td>\n",
       "      <td>16-005</td>\n",
       "      <td>ALTA VERAPAZ</td>\n",
       "      <td>COBAN</td>\n",
       "      <td>ESCUELA NACIONAL DE CIENCIAS COMERCIALES</td>\n",
       "      <td>2A CALLE 11-10 ZONA 2</td>\n",
       "      <td>79514215</td>\n",
       "      <td>RUDY ADOLFO TOT OCH</td>\n",
       "      <td>HɃTOR ROLANDO CHUN POOU</td>\n",
       "      <td>DIVERSIFICADO</td>\n",
       "      <td>OFICIAL</td>\n",
       "      <td>URBANA</td>\n",
       "      <td>ABIERTA</td>\n",
       "      <td>MONOLINGUE</td>\n",
       "      <td>MATUTINA</td>\n",
       "      <td>DIARIO(REGULAR)</td>\n",
       "      <td>ALTA VERAPAZ</td>\n",
       "    </tr>\n",
       "    <tr>\n",
       "      <th>4</th>\n",
       "      <td>16-01-0142-46</td>\n",
       "      <td>16-005</td>\n",
       "      <td>ALTA VERAPAZ</td>\n",
       "      <td>COBAN</td>\n",
       "      <td>INSTITUTO NORMAL MIXTO DEL NORTE 'EMILIO ROSAL...</td>\n",
       "      <td>3A AVE 6-23 ZONA 11</td>\n",
       "      <td>79521468</td>\n",
       "      <td>RUDY ADOLFO TOT OCH</td>\n",
       "      <td>VICTOR HUGO DOM͎GUEZ REYES</td>\n",
       "      <td>DIVERSIFICADO</td>\n",
       "      <td>OFICIAL</td>\n",
       "      <td>URBANA</td>\n",
       "      <td>ABIERTA</td>\n",
       "      <td>BILINGUE</td>\n",
       "      <td>VESPERTINA</td>\n",
       "      <td>DIARIO(REGULAR)</td>\n",
       "      <td>ALTA VERAPAZ</td>\n",
       "    </tr>\n",
       "    <tr>\n",
       "      <th>...</th>\n",
       "      <td>...</td>\n",
       "      <td>...</td>\n",
       "      <td>...</td>\n",
       "      <td>...</td>\n",
       "      <td>...</td>\n",
       "      <td>...</td>\n",
       "      <td>...</td>\n",
       "      <td>...</td>\n",
       "      <td>...</td>\n",
       "      <td>...</td>\n",
       "      <td>...</td>\n",
       "      <td>...</td>\n",
       "      <td>...</td>\n",
       "      <td>...</td>\n",
       "      <td>...</td>\n",
       "      <td>...</td>\n",
       "      <td>...</td>\n",
       "    </tr>\n",
       "    <tr>\n",
       "      <th>9326</th>\n",
       "      <td>19-09-0040-46</td>\n",
       "      <td>19-021</td>\n",
       "      <td>ZACAPA</td>\n",
       "      <td>LA UNION</td>\n",
       "      <td>LICEO PARTICULAR MIXTO \"JIREH\"</td>\n",
       "      <td>BARRIO NUEVO</td>\n",
       "      <td>79418369</td>\n",
       "      <td>ASBEL IVAN SUCHITE ARROYO</td>\n",
       "      <td>ANA MAŔ CUELLAR GUERRA</td>\n",
       "      <td>DIVERSIFICADO</td>\n",
       "      <td>PRIVADO</td>\n",
       "      <td>URBANA</td>\n",
       "      <td>ABIERTA</td>\n",
       "      <td>MONOLINGUE</td>\n",
       "      <td>MATUTINA</td>\n",
       "      <td>DIARIO(REGULAR)</td>\n",
       "      <td>ZACAPA</td>\n",
       "    </tr>\n",
       "    <tr>\n",
       "      <th>9327</th>\n",
       "      <td>19-09-0048-46</td>\n",
       "      <td>19-021</td>\n",
       "      <td>ZACAPA</td>\n",
       "      <td>LA UNION</td>\n",
       "      <td>LICEO PARTICULAR MIXTO \" JIREH\"</td>\n",
       "      <td>BARRIO NUEVO</td>\n",
       "      <td>79418369</td>\n",
       "      <td>ASBEL IVAN SUCHITE ARROYO</td>\n",
       "      <td>ANA MAŔ CUELLAR GUERRA</td>\n",
       "      <td>DIVERSIFICADO</td>\n",
       "      <td>PRIVADO</td>\n",
       "      <td>URBANA</td>\n",
       "      <td>ABIERTA</td>\n",
       "      <td>MONOLINGUE</td>\n",
       "      <td>SIN JORNADA</td>\n",
       "      <td>SEMIPRESENCIAL (UN D́ A LA SEMANA)</td>\n",
       "      <td>ZACAPA</td>\n",
       "    </tr>\n",
       "    <tr>\n",
       "      <th>9328</th>\n",
       "      <td>19-10-0013-46</td>\n",
       "      <td>19-015</td>\n",
       "      <td>ZACAPA</td>\n",
       "      <td>HUITE</td>\n",
       "      <td>INSTITUTO DIVERSIFICADO</td>\n",
       "      <td>BARRIO BUENOS AIRES</td>\n",
       "      <td>47097386</td>\n",
       "      <td>SILDY MARIELA PEREZ FRANCO</td>\n",
       "      <td>MARLON JOSUɠARCHILA LORENZO</td>\n",
       "      <td>DIVERSIFICADO</td>\n",
       "      <td>OFICIAL</td>\n",
       "      <td>URBANA</td>\n",
       "      <td>ABIERTA</td>\n",
       "      <td>MONOLINGUE</td>\n",
       "      <td>NOCTURNA</td>\n",
       "      <td>DIARIO(REGULAR)</td>\n",
       "      <td>ZACAPA</td>\n",
       "    </tr>\n",
       "    <tr>\n",
       "      <th>9329</th>\n",
       "      <td>19-10-1009-46</td>\n",
       "      <td>19-015</td>\n",
       "      <td>ZACAPA</td>\n",
       "      <td>HUITE</td>\n",
       "      <td>INSTITUTO MIXTO DE EDUCACION DIVERSIFICADA POR...</td>\n",
       "      <td>BARRIO EL CAMPO</td>\n",
       "      <td>55958103</td>\n",
       "      <td>SILDY MARIELA PEREZ FRANCO</td>\n",
       "      <td>ROBIDIO PORTILLO SALGUERO</td>\n",
       "      <td>DIVERSIFICADO</td>\n",
       "      <td>COOPERATIVA</td>\n",
       "      <td>URBANA</td>\n",
       "      <td>ABIERTA</td>\n",
       "      <td>MONOLINGUE</td>\n",
       "      <td>VESPERTINA</td>\n",
       "      <td>DIARIO(REGULAR)</td>\n",
       "      <td>ZACAPA</td>\n",
       "    </tr>\n",
       "    <tr>\n",
       "      <th>9330</th>\n",
       "      <td>19-11-0018-46</td>\n",
       "      <td>19-020</td>\n",
       "      <td>ZACAPA</td>\n",
       "      <td>SAN JORGE</td>\n",
       "      <td>INSTITUTO MIXTO DE EDUCACIӎ DIVERSIFICADA POR ...</td>\n",
       "      <td>BARRIO EL CENTRO</td>\n",
       "      <td>41447589</td>\n",
       "      <td>ALBA LUZ MENDEZ</td>\n",
       "      <td>VICTOR HUGO GUERRA MONROY</td>\n",
       "      <td>DIVERSIFICADO</td>\n",
       "      <td>COOPERATIVA</td>\n",
       "      <td>URBANA</td>\n",
       "      <td>ABIERTA</td>\n",
       "      <td>MONOLINGUE</td>\n",
       "      <td>MATUTINA</td>\n",
       "      <td>DIARIO(REGULAR)</td>\n",
       "      <td>ZACAPA</td>\n",
       "    </tr>\n",
       "  </tbody>\n",
       "</table>\n",
       "<p>9331 rows × 17 columns</p>\n",
       "</div>"
      ],
      "text/plain": [
       "             CODIGO DISTRITO  DEPARTAMENTO  MUNICIPIO  \\\n",
       "0     16-01-0138-46   16-031  ALTA VERAPAZ      COBAN   \n",
       "1     16-01-0139-46   16-031  ALTA VERAPAZ      COBAN   \n",
       "2     16-01-0140-46   16-031  ALTA VERAPAZ      COBAN   \n",
       "3     16-01-0141-46   16-005  ALTA VERAPAZ      COBAN   \n",
       "4     16-01-0142-46   16-005  ALTA VERAPAZ      COBAN   \n",
       "...             ...      ...           ...        ...   \n",
       "9326  19-09-0040-46   19-021        ZACAPA   LA UNION   \n",
       "9327  19-09-0048-46   19-021        ZACAPA   LA UNION   \n",
       "9328  19-10-0013-46   19-015        ZACAPA      HUITE   \n",
       "9329  19-10-1009-46   19-015        ZACAPA      HUITE   \n",
       "9330  19-11-0018-46   19-020        ZACAPA  SAN JORGE   \n",
       "\n",
       "                                        ESTABLECIMIENTO  \\\n",
       "0                                         COLEGIO COBAN   \n",
       "1                      COLEGIO PARTICULAR MIXTO VERAPAZ   \n",
       "2                               COLEGIO \"LA INMACULADA\"   \n",
       "3              ESCUELA NACIONAL DE CIENCIAS COMERCIALES   \n",
       "4     INSTITUTO NORMAL MIXTO DEL NORTE 'EMILIO ROSAL...   \n",
       "...                                                 ...   \n",
       "9326                     LICEO PARTICULAR MIXTO \"JIREH\"   \n",
       "9327                    LICEO PARTICULAR MIXTO \" JIREH\"   \n",
       "9328                            INSTITUTO DIVERSIFICADO   \n",
       "9329  INSTITUTO MIXTO DE EDUCACION DIVERSIFICADA POR...   \n",
       "9330  INSTITUTO MIXTO DE EDUCACIӎ DIVERSIFICADA POR ...   \n",
       "\n",
       "                                   DIRECCION  TELEFONO  \\\n",
       "0     KM.2 SALIDA A SAN JUAN CHAMELCO ZONA 8  77945104   \n",
       "1               KM 209.5 ENTRADA A LA CIUDAD  77367402   \n",
       "2                  7A. AVENIDA 11-109 ZONA 6  78232301   \n",
       "3                      2A CALLE 11-10 ZONA 2  79514215   \n",
       "4                        3A AVE 6-23 ZONA 11  79521468   \n",
       "...                                      ...       ...   \n",
       "9326                            BARRIO NUEVO  79418369   \n",
       "9327                            BARRIO NUEVO  79418369   \n",
       "9328                     BARRIO BUENOS AIRES  47097386   \n",
       "9329                         BARRIO EL CAMPO  55958103   \n",
       "9330                        BARRIO EL CENTRO  41447589   \n",
       "\n",
       "                           SUPERVISOR                        DIRECTOR  \\\n",
       "0     MERCEDES JOSEFINA TORRES GALVEZ       GUSTAVO ADOLFO SIERRA POP   \n",
       "1     MERCEDES JOSEFINA TORRES GALVEZ  GILMA DOLORES GUAY PAZ DE LEAL   \n",
       "2     MERCEDES JOSEFINA TORRES GALVEZ         VIRGINIA SOLANO SERRANO   \n",
       "3                 RUDY ADOLFO TOT OCH         HɃTOR ROLANDO CHUN POOU   \n",
       "4                 RUDY ADOLFO TOT OCH      VICTOR HUGO DOM͎GUEZ REYES   \n",
       "...                               ...                             ...   \n",
       "9326        ASBEL IVAN SUCHITE ARROYO         ANA MAŔ CUELLAR GUERRA   \n",
       "9327        ASBEL IVAN SUCHITE ARROYO         ANA MAŔ CUELLAR GUERRA   \n",
       "9328       SILDY MARIELA PEREZ FRANCO     MARLON JOSUɠARCHILA LORENZO   \n",
       "9329       SILDY MARIELA PEREZ FRANCO       ROBIDIO PORTILLO SALGUERO   \n",
       "9330                  ALBA LUZ MENDEZ       VICTOR HUGO GUERRA MONROY   \n",
       "\n",
       "              NIVEL       SECTOR    AREA   STATUS   MODALIDAD      JORNADA  \\\n",
       "0     DIVERSIFICADO      PRIVADO  URBANA  ABIERTA  MONOLINGUE     MATUTINA   \n",
       "1     DIVERSIFICADO      PRIVADO  URBANA  ABIERTA  MONOLINGUE     MATUTINA   \n",
       "2     DIVERSIFICADO      PRIVADO  URBANA  ABIERTA  MONOLINGUE     MATUTINA   \n",
       "3     DIVERSIFICADO      OFICIAL  URBANA  ABIERTA  MONOLINGUE     MATUTINA   \n",
       "4     DIVERSIFICADO      OFICIAL  URBANA  ABIERTA    BILINGUE   VESPERTINA   \n",
       "...             ...          ...     ...      ...         ...          ...   \n",
       "9326  DIVERSIFICADO      PRIVADO  URBANA  ABIERTA  MONOLINGUE     MATUTINA   \n",
       "9327  DIVERSIFICADO      PRIVADO  URBANA  ABIERTA  MONOLINGUE  SIN JORNADA   \n",
       "9328  DIVERSIFICADO      OFICIAL  URBANA  ABIERTA  MONOLINGUE     NOCTURNA   \n",
       "9329  DIVERSIFICADO  COOPERATIVA  URBANA  ABIERTA  MONOLINGUE   VESPERTINA   \n",
       "9330  DIVERSIFICADO  COOPERATIVA  URBANA  ABIERTA  MONOLINGUE     MATUTINA   \n",
       "\n",
       "                                    PLAN DEPARTAMENTAL  \n",
       "0                        DIARIO(REGULAR)  ALTA VERAPAZ  \n",
       "1                        DIARIO(REGULAR)  ALTA VERAPAZ  \n",
       "2                        DIARIO(REGULAR)  ALTA VERAPAZ  \n",
       "3                        DIARIO(REGULAR)  ALTA VERAPAZ  \n",
       "4                        DIARIO(REGULAR)  ALTA VERAPAZ  \n",
       "...                                  ...           ...  \n",
       "9326                     DIARIO(REGULAR)        ZACAPA  \n",
       "9327  SEMIPRESENCIAL (UN D́ A LA SEMANA)        ZACAPA  \n",
       "9328                     DIARIO(REGULAR)        ZACAPA  \n",
       "9329                     DIARIO(REGULAR)        ZACAPA  \n",
       "9330                     DIARIO(REGULAR)        ZACAPA  \n",
       "\n",
       "[9331 rows x 17 columns]"
      ]
     },
     "execution_count": 346,
     "metadata": {},
     "output_type": "execute_result"
    }
   ],
   "source": [
    "education = pd.read_csv('education.csv')\n",
    "\n",
    "education"
   ]
  },
  {
   "cell_type": "markdown",
   "metadata": {},
   "source": [
    "### Amount of columns"
   ]
  },
  {
   "cell_type": "code",
   "execution_count": 347,
   "metadata": {},
   "outputs": [
    {
     "name": "stdout",
     "output_type": "stream",
     "text": [
      "Number of columns: 17\n",
      "Index(['CODIGO', 'DISTRITO', 'DEPARTAMENTO', 'MUNICIPIO', 'ESTABLECIMIENTO',\n",
      "       'DIRECCION', 'TELEFONO', 'SUPERVISOR', 'DIRECTOR', 'NIVEL', 'SECTOR',\n",
      "       'AREA', 'STATUS', 'MODALIDAD', 'JORNADA', 'PLAN', 'DEPARTAMENTAL'],\n",
      "      dtype='object')\n"
     ]
    }
   ],
   "source": [
    "print(\"Number of columns:\", len(education.columns))\n",
    "\n",
    "print(education.columns)"
   ]
  },
  {
   "cell_type": "code",
   "execution_count": 348,
   "metadata": {},
   "outputs": [],
   "source": [
    "education['DISTRITO'] = education['DISTRITO']"
   ]
  },
  {
   "cell_type": "markdown",
   "metadata": {},
   "source": [
    "## Dataset Transformations"
   ]
  },
  {
   "cell_type": "markdown",
   "metadata": {},
   "source": [
    "#### DISTRITO"
   ]
  },
  {
   "cell_type": "markdown",
   "metadata": {},
   "source": [
    "Replace every null value with the first 3 characters of the district to identify in the department"
   ]
  },
  {
   "cell_type": "code",
   "execution_count": 349,
   "metadata": {},
   "outputs": [],
   "source": [
    "# Function to replace NaN with first 3 chars of previous entry\n",
    "def replace_missing_values(df, column_name):\n",
    "    for i in range(1, len(df)):\n",
    "        if pd.isna(df.loc[i, column_name]):\n",
    "            if not pd.isna(df.loc[i-1, column_name]):\n",
    "                df.loc[i, column_name] = df.loc[i-1, column_name][:3]\n",
    "    return df\n",
    "\n",
    "# Replace missing values\n",
    "df = replace_missing_values(education, 'DISTRITO')"
   ]
  },
  {
   "cell_type": "markdown",
   "metadata": {},
   "source": [
    "#### DEPARTAMENTO"
   ]
  },
  {
   "cell_type": "markdown",
   "metadata": {},
   "source": [
    "Replace every space for '_' symbol and replace every lowercase value with uppercase value."
   ]
  },
  {
   "cell_type": "code",
   "execution_count": 350,
   "metadata": {},
   "outputs": [],
   "source": [
    "# Reemplazamos\n",
    "education['DEPARTAMENTO'] = education['DEPARTAMENTO'].replace(' ', '_', regex=True)\n",
    "education['DEPARTAMENTO'] = education['DEPARTAMENTO'].str.upper()"
   ]
  },
  {
   "cell_type": "markdown",
   "metadata": {},
   "source": [
    "#### MUNICIPIO"
   ]
  },
  {
   "cell_type": "markdown",
   "metadata": {},
   "source": [
    "Replace every space with '_' symbol."
   ]
  },
  {
   "cell_type": "code",
   "execution_count": 351,
   "metadata": {},
   "outputs": [],
   "source": [
    "education['MUNICIPIO'] = education['MUNICIPIO'].replace(' ', '_', regex=True)"
   ]
  },
  {
   "cell_type": "markdown",
   "metadata": {},
   "source": [
    "#### ESTABLECIMIENTO: "
   ]
  },
  {
   "cell_type": "markdown",
   "metadata": {},
   "source": [
    "Replace unknown symbols and writing mistakes"
   ]
  },
  {
   "cell_type": "code",
   "execution_count": 352,
   "metadata": {},
   "outputs": [],
   "source": [
    "education['ESTABLECIMIENTO'] = education['ESTABLECIMIENTO'].str.replace('я', 'ÑO', regex=True)\n",
    "education['ESTABLECIMIENTO'] = education['ESTABLECIMIENTO'].str.replace('ӎ', 'ON', regex=True)\n",
    "education['ESTABLECIMIENTO'] = education['ESTABLECIMIENTO'].str.replace('Ŕ', 'RIA', regex=True)\n",
    "education['ESTABLECIMIENTO'] = education['ESTABLECIMIENTO'].str.replace('ɖ', 'RE', regex=True)\n",
    "education['ESTABLECIMIENTO'] = education['ESTABLECIMIENTO'].str.replace('ɓ', 'E', regex=True)\n",
    "education['ESTABLECIMIENTO'] = education['ESTABLECIMIENTO'].str.replace('F́', 'FIA', regex=True)\n",
    "education['ESTABLECIMIENTO'] = education['ESTABLECIMIENTO'].str.replace('Ǵ', 'GICO', regex=True)\n",
    "education['ESTABLECIMIENTO'] = education['ESTABLECIMIENTO'].str.replace('ɒ', 'ER', regex=True)\n",
    "education['ESTABLECIMIENTO'] = education['ESTABLECIMIENTO'].str.replace('ɇ', 'EG', regex=True)\n",
    "education['ESTABLECIMIENTO'] = education['ESTABLECIMIENTO'].str.replace('Ӈ', 'OG', regex=True)\n",
    "education['ESTABLECIMIENTO'] = education['ESTABLECIMIENTO'].str.replace('Ƀ', 'EC', regex=True)\n",
    "education['ESTABLECIMIENTO'] = education['ESTABLECIMIENTO'].str.replace('ɘ', '', regex=True)#######\n",
    "education['ESTABLECIMIENTO'] = education['ESTABLECIMIENTO'].str.replace('R͓', 'RIS', regex=True)\n",
    "education['ESTABLECIMIENTO'] = education['ESTABLECIMIENTO'].str.replace('L͔', 'LIT', regex=True)\n",
    "education['ESTABLECIMIENTO'] = education['ESTABLECIMIENTO'].str.replace('U͎', 'UIN', regex=True)\n",
    "education['ESTABLECIMIENTO'] = education['ESTABLECIMIENTO'].str.replace('T͆', 'TIF', regex=True)\n",
    "education['ESTABLECIMIENTO'] = education['ESTABLECIMIENTO'].str.replace('ӌ', 'OL', regex=True)\n",
    "education['ESTABLECIMIENTO'] = education['ESTABLECIMIENTO'].str.replace('ڂ', 'UB', regex=True)\n",
    "education['ESTABLECIMIENTO'] = education['ESTABLECIMIENTO'].str.replace('ڍ', 'UM', regex=True)\n",
    "education['ESTABLECIMIENTO'] = education['ESTABLECIMIENTO'].str.replace('R͑', 'RIQ', regex=True)\n",
    "education['ESTABLECIMIENTO'] = education['ESTABLECIMIENTO'].str.replace('ړ', 'US', regex=True)\n",
    "education['ESTABLECIMIENTO'] = education['ESTABLECIMIENTO'].str.replace('D͎', 'DIN', regex=True)\n",
    "education['ESTABLECIMIENTO'] = education['ESTABLECIMIENTO'].str.replace('T͎', 'TIN', regex=True)\n",
    "education['ESTABLECIMIENTO'] = education['ESTABLECIMIENTO'].str.replace('Ӂ', 'OB', regex=True)\n",
    "education['ESTABLECIMIENTO'] = education['ESTABLECIMIENTO'].str.replace('Ɏ', 'LO', regex=True)\n",
    "education['ESTABLECIMIENTO'] = education['ESTABLECIMIENTO'].str.replace('J̓', 'PAJ', regex=True)\n",
    "education['ESTABLECIMIENTO'] = education['ESTABLECIMIENTO'].str.replace('A͓', 'AIS', regex=True)\n",
    "education['ESTABLECIMIENTO'] = education['ESTABLECIMIENTO'].str.replace('/td>', '', regex=True)\n",
    "education['ESTABLECIMIENTO'] = education['ESTABLECIMIENTO'].str.replace('Ɍ', 'EM', regex=True)\n",
    "education['ESTABLECIMIENTO'] = education['ESTABLECIMIENTO'].str.replace('JOSɠ', 'JOSE', regex=True)\n",
    "education['ESTABLECIMIENTO'] = education['ESTABLECIMIENTO'].str.replace('JOSɢ', 'JOSE', regex=True)\n",
    "education['ESTABLECIMIENTO'] = education['ESTABLECIMIENTO'].str.replace('JOSɼ', 'JOSE', regex=True)\n",
    "education['ESTABLECIMIENTO'] = education['ESTABLECIMIENTO'].str.replace('TECPN', 'TECPAN', regex=True)\n",
    "education['ESTABLECIMIENTO'] = education['ESTABLECIMIENTO'].str.replace('ENSEсNZA', 'ENSEÑANZA', regex=True)\n",
    "education['ESTABLECIMIENTO'] = education['ESTABLECIMIENTO'].str.replace('EDUCACIҎ', 'EDUCACION', regex=True)\n",
    "education['ESTABLECIMIENTO'] = education['ESTABLECIMIENTO'].str.replace('BSICA', 'BASICA', regex=True)\n",
    "education['ESTABLECIMIENTO'] = education['ESTABLECIMIENTO'].str.replace('TECNӌOGICO', 'TECNOLOGICO', regex=True)\n",
    "education['ESTABLECIMIENTO'] = education['ESTABLECIMIENTO'].str.replace('EVANGȌICO', 'EVANGELICO', regex=True)\n",
    "education['ESTABLECIMIENTO'] = education['ESTABLECIMIENTO'].str.replace('EVANGɌICO', 'EVANGELICO', regex=True)\n",
    "education['ESTABLECIMIENTO'] = education['ESTABLECIMIENTO'].str.replace('EVAANGELICO', 'EVANGELICO', regex=True)\n",
    "education['ESTABLECIMIENTO'] = education['ESTABLECIMIENTO'].str.replace('BILING܅', 'BILINGUE', regex=True)\n",
    "education['ESTABLECIMIENTO'] = education['ESTABLECIMIENTO'].str.replace('TRILING܅', 'TRILINGUE', regex=True)\n",
    "education['ESTABLECIMIENTO'] = education['ESTABLECIMIENTO'].str.replace('ASOCAICION', 'ASOCIACION', regex=True)\n",
    "education['ESTABLECIMIENTO'] = education['ESTABLECIMIENTO'].str.replace('ASOCIACIɎ', 'ASOCIACION', regex=True)\n",
    "education['ESTABLECIMIENTO'] = education['ESTABLECIMIENTO'].str.replace('INTITUTO', 'INSTITUTO', regex=True)\n",
    "education['ESTABLECIMIENTO'] = education['ESTABLECIMIENTO'].str.replace('INFORMTICA', 'INFORMATICA', regex=True)\n",
    "education['ESTABLECIMIENTO'] = education['ESTABLECIMIENTO'].str.replace('GETSEMAN͢', 'GETSEMANI', regex=True)\n",
    "education['ESTABLECIMIENTO'] = education['ESTABLECIMIENTO'].str.replace('BERNABɼ', 'BERNABO', regex=True)\n",
    "education['ESTABLECIMIENTO'] = education['ESTABLECIMIENTO'].str.replace('NGEL', 'ANGEL', regex=True)\n",
    "education['ESTABLECIMIENTO'] = education['ESTABLECIMIENTO'].str.replace('SARAZځ', 'SARAZO', regex=True)\n",
    "education['ESTABLECIMIENTO'] = education['ESTABLECIMIENTO'].str.replace('LVAREZ', 'ALVAREZ', regex=True)\n",
    "education['ESTABLECIMIENTO'] = education['ESTABLECIMIENTO'].str.replace('SINA͢', 'SINA', regex=True)"
   ]
  },
  {
   "cell_type": "markdown",
   "metadata": {},
   "source": [
    "Delete quotes, single quotes and hyphen"
   ]
  },
  {
   "cell_type": "code",
   "execution_count": 353,
   "metadata": {},
   "outputs": [],
   "source": [
    "education['ESTABLECIMIENTO'] = education['ESTABLECIMIENTO'].replace(\"'\", '', regex=True)\n",
    "education['ESTABLECIMIENTO'] = education['ESTABLECIMIENTO'].replace('-', '', regex=True)\n",
    "education['ESTABLECIMIENTO'] = education['ESTABLECIMIENTO'].replace('\"', '', regex=True)"
   ]
  },
  {
   "cell_type": "markdown",
   "metadata": {},
   "source": [
    "Delete parenthesis and commas"
   ]
  },
  {
   "cell_type": "code",
   "execution_count": 354,
   "metadata": {},
   "outputs": [],
   "source": [
    "education['ESTABLECIMIENTO'] = education['ESTABLECIMIENTO'].replace({r'[(),]': ''}, regex=True)"
   ]
  },
  {
   "cell_type": "markdown",
   "metadata": {},
   "source": [
    "Delete doble spaces and change them to underscore"
   ]
  },
  {
   "cell_type": "code",
   "execution_count": 355,
   "metadata": {},
   "outputs": [],
   "source": [
    "education['ESTABLECIMIENTO'] = education['ESTABLECIMIENTO'].replace('  ', ' ', regex=True)\n",
    "education['ESTABLECIMIENTO'] = education['ESTABLECIMIENTO'].replace(' ', '_', regex=True)"
   ]
  },
  {
   "cell_type": "markdown",
   "metadata": {},
   "source": [
    "Change everything to uppercase"
   ]
  },
  {
   "cell_type": "code",
   "execution_count": 356,
   "metadata": {},
   "outputs": [],
   "source": [
    "education['ESTABLECIMIENTO'] = education['ESTABLECIMIENTO'].str.upper()"
   ]
  },
  {
   "cell_type": "markdown",
   "metadata": {},
   "source": [
    "#### DIRECCIÓN: "
   ]
  },
  {
   "cell_type": "code",
   "execution_count": 357,
   "metadata": {},
   "outputs": [],
   "source": [
    "def replace_dot_with_nan(value):\n",
    "    if isinstance(value, str) and (value == '.' or value == '-' or value == '--' or value == '---') and len(value) < 4:\n",
    "        return np.nan\n",
    "    return value"
   ]
  },
  {
   "cell_type": "code",
   "execution_count": 358,
   "metadata": {},
   "outputs": [],
   "source": [
    "education['DIRECCION'] = education['DIRECCION'].apply(replace_dot_with_nan)\n",
    "education['DIRECCION'] = education['DIRECCION'].replace(np.nan, 'No Especificado', regex=True)"
   ]
  },
  {
   "cell_type": "code",
   "execution_count": 359,
   "metadata": {},
   "outputs": [],
   "source": [
    "education['DIRECCION'] = education['DIRECCION'].str.replace('я', 'ÑO', regex=True)\n",
    "education['DIRECCION'] = education['DIRECCION'].str.replace('ӎ', 'ON', regex=True)\n",
    "education['DIRECCION'] = education['DIRECCION'].str.replace('Ŕ', 'RIA', regex=True)\n",
    "education['DIRECCION'] = education['DIRECCION'].str.replace('ɖ', 'RE', regex=True)\n",
    "education['DIRECCION'] = education['DIRECCION'].str.replace('ɓ', 'E', regex=True)\n",
    "education['DIRECCION'] = education['DIRECCION'].str.replace('F́', 'FIA', regex=True)\n",
    "education['DIRECCION'] = education['DIRECCION'].str.replace('Ǵ', 'GICO', regex=True)\n",
    "education['DIRECCION'] = education['DIRECCION'].str.replace('ɒ', 'ER', regex=True)\n",
    "education['DIRECCION'] = education['DIRECCION'].str.replace('ɇ', 'EG', regex=True)\n",
    "education['DIRECCION'] = education['DIRECCION'].str.replace('Ӈ', 'OG', regex=True)\n",
    "education['DIRECCION'] = education['DIRECCION'].str.replace('Ƀ', 'EC', regex=True)\n",
    "education['DIRECCION'] = education['DIRECCION'].str.replace('ɘ', '', regex=True)#######\n",
    "education['DIRECCION'] = education['DIRECCION'].str.replace('R͓', 'RIS', regex=True)\n",
    "education['DIRECCION'] = education['DIRECCION'].str.replace('L͔', 'LIT', regex=True)\n",
    "education['DIRECCION'] = education['DIRECCION'].str.replace('U͎', 'UIN', regex=True)\n",
    "education['DIRECCION'] = education['DIRECCION'].str.replace('T͆', 'TIF', regex=True)\n",
    "education['DIRECCION'] = education['DIRECCION'].str.replace('ӌ', 'OL', regex=True)\n",
    "education['DIRECCION'] = education['DIRECCION'].str.replace('ڂ', 'UB', regex=True)\n",
    "education['DIRECCION'] = education['DIRECCION'].str.replace('ڍ', 'UM', regex=True)\n",
    "education['DIRECCION'] = education['DIRECCION'].str.replace('R͑', 'RIQ', regex=True)\n",
    "education['DIRECCION'] = education['DIRECCION'].str.replace('ړ', 'US', regex=True)\n",
    "education['DIRECCION'] = education['DIRECCION'].str.replace('D͎', 'DIN', regex=True)\n",
    "education['DIRECCION'] = education['DIRECCION'].str.replace('T͎', 'TIN', regex=True)\n",
    "education['DIRECCION'] = education['DIRECCION'].str.replace('Ӂ', 'OB', regex=True)\n",
    "education['DIRECCION'] = education['DIRECCION'].str.replace('Ɏ', 'LO', regex=True)\n",
    "education['DIRECCION'] = education['DIRECCION'].str.replace('J̓', 'PAJ', regex=True)\n",
    "education['DIRECCION'] = education['DIRECCION'].str.replace('A͓', 'AIS', regex=True)\n",
    "education['DIRECCION'] = education['DIRECCION'].str.replace('/td>', '', regex=True)\n",
    "education['DIRECCION'] = education['DIRECCION'].str.replace('Ɍ', 'EM', regex=True)\n",
    "\n",
    "education['DIRECCION'] = education['DIRECCION'].replace('AVENIDA', 'AV.', regex=True)\n",
    "education['DIRECCION'] = education['DIRECCION'].replace('AVE.', 'AV.', regex=True)\n",
    "education['DIRECCION'] = education['DIRECCION'].replace('1RA', '1ERA', regex=True)"
   ]
  },
  {
   "cell_type": "code",
   "execution_count": 360,
   "metadata": {},
   "outputs": [],
   "source": [
    "# education['DIRECCION'] = education['DIRECCION'].replace(\"'\", '', regex=True)\n",
    "# education['DIRECCION'] = education['DIRECCION'].replace('-', '', regex=True)\n",
    "education['DIRECCION'] = education['DIRECCION'].replace('\"', '', regex=True)"
   ]
  },
  {
   "cell_type": "code",
   "execution_count": 361,
   "metadata": {},
   "outputs": [],
   "source": [
    "education['DIRECCION'] = education['DIRECCION'].replace({r'[(),]': ''}, regex=True)"
   ]
  },
  {
   "cell_type": "code",
   "execution_count": 362,
   "metadata": {},
   "outputs": [],
   "source": [
    "education['DIRECCION'] = education['DIRECCION'].replace('  ', ' ', regex=True)\n",
    "education['DIRECCION'] = education['DIRECCION'].replace(' ', '_', regex=True)"
   ]
  },
  {
   "cell_type": "code",
   "execution_count": 363,
   "metadata": {},
   "outputs": [],
   "source": [
    "education['DIRECCION'] = education['DIRECCION'].str.upper()"
   ]
  },
  {
   "cell_type": "markdown",
   "metadata": {},
   "source": [
    "#### TELÉFONO"
   ]
  },
  {
   "cell_type": "markdown",
   "metadata": {},
   "source": [
    "Delete all other symbol that is not a number from the row value"
   ]
  },
  {
   "cell_type": "code",
   "execution_count": 364,
   "metadata": {},
   "outputs": [],
   "source": [
    "education['TELEFONO'] = education['TELEFONO'].replace({r'[.,E+/-]': ''}, regex=True)"
   ]
  },
  {
   "cell_type": "markdown",
   "metadata": {},
   "source": [
    "Replace all null values for a row of 0s"
   ]
  },
  {
   "cell_type": "code",
   "execution_count": 365,
   "metadata": {},
   "outputs": [],
   "source": [
    "education['TELEFONO'] = education['TELEFONO'].replace(np.nan, '00000000')"
   ]
  },
  {
   "cell_type": "markdown",
   "metadata": {},
   "source": [
    "Fill the missing values of numbers that don't get to the standard 8 numbers"
   ]
  },
  {
   "cell_type": "code",
   "execution_count": 366,
   "metadata": {},
   "outputs": [],
   "source": [
    "education['TELEFONO'] = education['TELEFONO'].apply(lambda x: x[:8].zfill(8) if isinstance(x, str) else x)"
   ]
  },
  {
   "cell_type": "markdown",
   "metadata": {},
   "source": [
    "Shortend all values with more than 8 numbers"
   ]
  },
  {
   "cell_type": "code",
   "execution_count": 367,
   "metadata": {},
   "outputs": [],
   "source": [
    "education['TELEFONO'] = education['TELEFONO'].apply(lambda x: x[:8] if isinstance(x, str) else x)"
   ]
  }
 ],
 "metadata": {
  "kernelspec": {
   "display_name": "Python 3",
   "language": "python",
   "name": "python3"
  },
  "language_info": {
   "codemirror_mode": {
    "name": "ipython",
    "version": 3
   },
   "file_extension": ".py",
   "mimetype": "text/x-python",
   "name": "python",
   "nbconvert_exporter": "python",
   "pygments_lexer": "ipython3",
   "version": "3.11.0"
  }
 },
 "nbformat": 4,
 "nbformat_minor": 2
}
