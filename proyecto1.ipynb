{
 "cells": [
  {
   "cell_type": "code",
   "execution_count": 827,
   "metadata": {},
   "outputs": [],
   "source": [
    "import pandas as pd\n",
    "import numpy as np\n",
    "import seaborn as sb\n",
    "import matplotlib.pyplot as plt\n",
    "import random\n",
    "from sklearn.preprocessing import OneHotEncoder, StandardScaler\n",
    "from sklearn.impute import SimpleImputer\n",
    "from sklearn.pipeline import Pipeline\n",
    "from sklearn.compose import make_column_selector as selector\n",
    "from sklearn.compose import ColumnTransformer"
   ]
  },
  {
   "cell_type": "markdown",
   "metadata": {},
   "source": [
    "### Amount of rows"
   ]
  },
  {
   "cell_type": "code",
   "execution_count": 828,
   "metadata": {},
   "outputs": [
    {
     "data": {
      "text/html": [
       "<div>\n",
       "<style scoped>\n",
       "    .dataframe tbody tr th:only-of-type {\n",
       "        vertical-align: middle;\n",
       "    }\n",
       "\n",
       "    .dataframe tbody tr th {\n",
       "        vertical-align: top;\n",
       "    }\n",
       "\n",
       "    .dataframe thead th {\n",
       "        text-align: right;\n",
       "    }\n",
       "</style>\n",
       "<table border=\"1\" class=\"dataframe\">\n",
       "  <thead>\n",
       "    <tr style=\"text-align: right;\">\n",
       "      <th></th>\n",
       "      <th>CODIGO</th>\n",
       "      <th>DISTRITO</th>\n",
       "      <th>DEPARTAMENTO</th>\n",
       "      <th>MUNICIPIO</th>\n",
       "      <th>ESTABLECIMIENTO</th>\n",
       "      <th>DIRECCION</th>\n",
       "      <th>TELEFONO</th>\n",
       "      <th>SUPERVISOR</th>\n",
       "      <th>DIRECTOR</th>\n",
       "      <th>NIVEL</th>\n",
       "      <th>SECTOR</th>\n",
       "      <th>AREA</th>\n",
       "      <th>STATUS</th>\n",
       "      <th>MODALIDAD</th>\n",
       "      <th>JORNADA</th>\n",
       "      <th>PLAN</th>\n",
       "      <th>DEPARTAMENTAL</th>\n",
       "    </tr>\n",
       "  </thead>\n",
       "  <tbody>\n",
       "    <tr>\n",
       "      <th>0</th>\n",
       "      <td>16-01-0138-46</td>\n",
       "      <td>16-031</td>\n",
       "      <td>ALTA VERAPAZ</td>\n",
       "      <td>COBAN</td>\n",
       "      <td>COLEGIO COBAN</td>\n",
       "      <td>KM.2 SALIDA A SAN JUAN CHAMELCO ZONA 8</td>\n",
       "      <td>77945104</td>\n",
       "      <td>MERCEDES JOSEFINA TORRES GALVEZ</td>\n",
       "      <td>GUSTAVO ADOLFO SIERRA POP</td>\n",
       "      <td>DIVERSIFICADO</td>\n",
       "      <td>PRIVADO</td>\n",
       "      <td>URBANA</td>\n",
       "      <td>ABIERTA</td>\n",
       "      <td>MONOLINGUE</td>\n",
       "      <td>MATUTINA</td>\n",
       "      <td>DIARIO(REGULAR)</td>\n",
       "      <td>ALTA VERAPAZ</td>\n",
       "    </tr>\n",
       "    <tr>\n",
       "      <th>1</th>\n",
       "      <td>16-01-0139-46</td>\n",
       "      <td>16-031</td>\n",
       "      <td>ALTA VERAPAZ</td>\n",
       "      <td>COBAN</td>\n",
       "      <td>COLEGIO PARTICULAR MIXTO VERAPAZ</td>\n",
       "      <td>KM 209.5 ENTRADA A LA CIUDAD</td>\n",
       "      <td>77367402</td>\n",
       "      <td>MERCEDES JOSEFINA TORRES GALVEZ</td>\n",
       "      <td>GILMA DOLORES GUAY PAZ DE LEAL</td>\n",
       "      <td>DIVERSIFICADO</td>\n",
       "      <td>PRIVADO</td>\n",
       "      <td>URBANA</td>\n",
       "      <td>ABIERTA</td>\n",
       "      <td>MONOLINGUE</td>\n",
       "      <td>MATUTINA</td>\n",
       "      <td>DIARIO(REGULAR)</td>\n",
       "      <td>ALTA VERAPAZ</td>\n",
       "    </tr>\n",
       "    <tr>\n",
       "      <th>2</th>\n",
       "      <td>16-01-0140-46</td>\n",
       "      <td>16-031</td>\n",
       "      <td>ALTA VERAPAZ</td>\n",
       "      <td>COBAN</td>\n",
       "      <td>COLEGIO \"LA INMACULADA\"</td>\n",
       "      <td>7A. AVENIDA 11-109 ZONA 6</td>\n",
       "      <td>78232301</td>\n",
       "      <td>MERCEDES JOSEFINA TORRES GALVEZ</td>\n",
       "      <td>VIRGINIA SOLANO SERRANO</td>\n",
       "      <td>DIVERSIFICADO</td>\n",
       "      <td>PRIVADO</td>\n",
       "      <td>URBANA</td>\n",
       "      <td>ABIERTA</td>\n",
       "      <td>MONOLINGUE</td>\n",
       "      <td>MATUTINA</td>\n",
       "      <td>DIARIO(REGULAR)</td>\n",
       "      <td>ALTA VERAPAZ</td>\n",
       "    </tr>\n",
       "    <tr>\n",
       "      <th>3</th>\n",
       "      <td>16-01-0141-46</td>\n",
       "      <td>16-005</td>\n",
       "      <td>ALTA VERAPAZ</td>\n",
       "      <td>COBAN</td>\n",
       "      <td>ESCUELA NACIONAL DE CIENCIAS COMERCIALES</td>\n",
       "      <td>2A CALLE 11-10 ZONA 2</td>\n",
       "      <td>79514215</td>\n",
       "      <td>RUDY ADOLFO TOT OCH</td>\n",
       "      <td>HɃTOR ROLANDO CHUN POOU</td>\n",
       "      <td>DIVERSIFICADO</td>\n",
       "      <td>OFICIAL</td>\n",
       "      <td>URBANA</td>\n",
       "      <td>ABIERTA</td>\n",
       "      <td>MONOLINGUE</td>\n",
       "      <td>MATUTINA</td>\n",
       "      <td>DIARIO(REGULAR)</td>\n",
       "      <td>ALTA VERAPAZ</td>\n",
       "    </tr>\n",
       "    <tr>\n",
       "      <th>4</th>\n",
       "      <td>16-01-0142-46</td>\n",
       "      <td>16-005</td>\n",
       "      <td>ALTA VERAPAZ</td>\n",
       "      <td>COBAN</td>\n",
       "      <td>INSTITUTO NORMAL MIXTO DEL NORTE 'EMILIO ROSAL...</td>\n",
       "      <td>3A AVE 6-23 ZONA 11</td>\n",
       "      <td>79521468</td>\n",
       "      <td>RUDY ADOLFO TOT OCH</td>\n",
       "      <td>VICTOR HUGO DOM͎GUEZ REYES</td>\n",
       "      <td>DIVERSIFICADO</td>\n",
       "      <td>OFICIAL</td>\n",
       "      <td>URBANA</td>\n",
       "      <td>ABIERTA</td>\n",
       "      <td>BILINGUE</td>\n",
       "      <td>VESPERTINA</td>\n",
       "      <td>DIARIO(REGULAR)</td>\n",
       "      <td>ALTA VERAPAZ</td>\n",
       "    </tr>\n",
       "    <tr>\n",
       "      <th>...</th>\n",
       "      <td>...</td>\n",
       "      <td>...</td>\n",
       "      <td>...</td>\n",
       "      <td>...</td>\n",
       "      <td>...</td>\n",
       "      <td>...</td>\n",
       "      <td>...</td>\n",
       "      <td>...</td>\n",
       "      <td>...</td>\n",
       "      <td>...</td>\n",
       "      <td>...</td>\n",
       "      <td>...</td>\n",
       "      <td>...</td>\n",
       "      <td>...</td>\n",
       "      <td>...</td>\n",
       "      <td>...</td>\n",
       "      <td>...</td>\n",
       "    </tr>\n",
       "    <tr>\n",
       "      <th>9326</th>\n",
       "      <td>19-09-0040-46</td>\n",
       "      <td>19-021</td>\n",
       "      <td>ZACAPA</td>\n",
       "      <td>LA UNION</td>\n",
       "      <td>LICEO PARTICULAR MIXTO \"JIREH\"</td>\n",
       "      <td>BARRIO NUEVO</td>\n",
       "      <td>79418369</td>\n",
       "      <td>ASBEL IVAN SUCHITE ARROYO</td>\n",
       "      <td>ANA MAŔ CUELLAR GUERRA</td>\n",
       "      <td>DIVERSIFICADO</td>\n",
       "      <td>PRIVADO</td>\n",
       "      <td>URBANA</td>\n",
       "      <td>ABIERTA</td>\n",
       "      <td>MONOLINGUE</td>\n",
       "      <td>MATUTINA</td>\n",
       "      <td>DIARIO(REGULAR)</td>\n",
       "      <td>ZACAPA</td>\n",
       "    </tr>\n",
       "    <tr>\n",
       "      <th>9327</th>\n",
       "      <td>19-09-0048-46</td>\n",
       "      <td>19-021</td>\n",
       "      <td>ZACAPA</td>\n",
       "      <td>LA UNION</td>\n",
       "      <td>LICEO PARTICULAR MIXTO \" JIREH\"</td>\n",
       "      <td>BARRIO NUEVO</td>\n",
       "      <td>79418369</td>\n",
       "      <td>ASBEL IVAN SUCHITE ARROYO</td>\n",
       "      <td>ANA MAŔ CUELLAR GUERRA</td>\n",
       "      <td>DIVERSIFICADO</td>\n",
       "      <td>PRIVADO</td>\n",
       "      <td>URBANA</td>\n",
       "      <td>ABIERTA</td>\n",
       "      <td>MONOLINGUE</td>\n",
       "      <td>SIN JORNADA</td>\n",
       "      <td>SEMIPRESENCIAL (UN D́ A LA SEMANA)</td>\n",
       "      <td>ZACAPA</td>\n",
       "    </tr>\n",
       "    <tr>\n",
       "      <th>9328</th>\n",
       "      <td>19-10-0013-46</td>\n",
       "      <td>19-015</td>\n",
       "      <td>ZACAPA</td>\n",
       "      <td>HUITE</td>\n",
       "      <td>INSTITUTO DIVERSIFICADO</td>\n",
       "      <td>BARRIO BUENOS AIRES</td>\n",
       "      <td>47097386</td>\n",
       "      <td>SILDY MARIELA PEREZ FRANCO</td>\n",
       "      <td>MARLON JOSUɠARCHILA LORENZO</td>\n",
       "      <td>DIVERSIFICADO</td>\n",
       "      <td>OFICIAL</td>\n",
       "      <td>URBANA</td>\n",
       "      <td>ABIERTA</td>\n",
       "      <td>MONOLINGUE</td>\n",
       "      <td>NOCTURNA</td>\n",
       "      <td>DIARIO(REGULAR)</td>\n",
       "      <td>ZACAPA</td>\n",
       "    </tr>\n",
       "    <tr>\n",
       "      <th>9329</th>\n",
       "      <td>19-10-1009-46</td>\n",
       "      <td>19-015</td>\n",
       "      <td>ZACAPA</td>\n",
       "      <td>HUITE</td>\n",
       "      <td>INSTITUTO MIXTO DE EDUCACION DIVERSIFICADA POR...</td>\n",
       "      <td>BARRIO EL CAMPO</td>\n",
       "      <td>55958103</td>\n",
       "      <td>SILDY MARIELA PEREZ FRANCO</td>\n",
       "      <td>ROBIDIO PORTILLO SALGUERO</td>\n",
       "      <td>DIVERSIFICADO</td>\n",
       "      <td>COOPERATIVA</td>\n",
       "      <td>URBANA</td>\n",
       "      <td>ABIERTA</td>\n",
       "      <td>MONOLINGUE</td>\n",
       "      <td>VESPERTINA</td>\n",
       "      <td>DIARIO(REGULAR)</td>\n",
       "      <td>ZACAPA</td>\n",
       "    </tr>\n",
       "    <tr>\n",
       "      <th>9330</th>\n",
       "      <td>19-11-0018-46</td>\n",
       "      <td>19-020</td>\n",
       "      <td>ZACAPA</td>\n",
       "      <td>SAN JORGE</td>\n",
       "      <td>INSTITUTO MIXTO DE EDUCACIӎ DIVERSIFICADA POR ...</td>\n",
       "      <td>BARRIO EL CENTRO</td>\n",
       "      <td>41447589</td>\n",
       "      <td>ALBA LUZ MENDEZ</td>\n",
       "      <td>VICTOR HUGO GUERRA MONROY</td>\n",
       "      <td>DIVERSIFICADO</td>\n",
       "      <td>COOPERATIVA</td>\n",
       "      <td>URBANA</td>\n",
       "      <td>ABIERTA</td>\n",
       "      <td>MONOLINGUE</td>\n",
       "      <td>MATUTINA</td>\n",
       "      <td>DIARIO(REGULAR)</td>\n",
       "      <td>ZACAPA</td>\n",
       "    </tr>\n",
       "  </tbody>\n",
       "</table>\n",
       "<p>9331 rows × 17 columns</p>\n",
       "</div>"
      ],
      "text/plain": [
       "             CODIGO DISTRITO  DEPARTAMENTO  MUNICIPIO  \\\n",
       "0     16-01-0138-46   16-031  ALTA VERAPAZ      COBAN   \n",
       "1     16-01-0139-46   16-031  ALTA VERAPAZ      COBAN   \n",
       "2     16-01-0140-46   16-031  ALTA VERAPAZ      COBAN   \n",
       "3     16-01-0141-46   16-005  ALTA VERAPAZ      COBAN   \n",
       "4     16-01-0142-46   16-005  ALTA VERAPAZ      COBAN   \n",
       "...             ...      ...           ...        ...   \n",
       "9326  19-09-0040-46   19-021        ZACAPA   LA UNION   \n",
       "9327  19-09-0048-46   19-021        ZACAPA   LA UNION   \n",
       "9328  19-10-0013-46   19-015        ZACAPA      HUITE   \n",
       "9329  19-10-1009-46   19-015        ZACAPA      HUITE   \n",
       "9330  19-11-0018-46   19-020        ZACAPA  SAN JORGE   \n",
       "\n",
       "                                        ESTABLECIMIENTO  \\\n",
       "0                                         COLEGIO COBAN   \n",
       "1                      COLEGIO PARTICULAR MIXTO VERAPAZ   \n",
       "2                               COLEGIO \"LA INMACULADA\"   \n",
       "3              ESCUELA NACIONAL DE CIENCIAS COMERCIALES   \n",
       "4     INSTITUTO NORMAL MIXTO DEL NORTE 'EMILIO ROSAL...   \n",
       "...                                                 ...   \n",
       "9326                     LICEO PARTICULAR MIXTO \"JIREH\"   \n",
       "9327                    LICEO PARTICULAR MIXTO \" JIREH\"   \n",
       "9328                            INSTITUTO DIVERSIFICADO   \n",
       "9329  INSTITUTO MIXTO DE EDUCACION DIVERSIFICADA POR...   \n",
       "9330  INSTITUTO MIXTO DE EDUCACIӎ DIVERSIFICADA POR ...   \n",
       "\n",
       "                                   DIRECCION  TELEFONO  \\\n",
       "0     KM.2 SALIDA A SAN JUAN CHAMELCO ZONA 8  77945104   \n",
       "1               KM 209.5 ENTRADA A LA CIUDAD  77367402   \n",
       "2                  7A. AVENIDA 11-109 ZONA 6  78232301   \n",
       "3                      2A CALLE 11-10 ZONA 2  79514215   \n",
       "4                        3A AVE 6-23 ZONA 11  79521468   \n",
       "...                                      ...       ...   \n",
       "9326                            BARRIO NUEVO  79418369   \n",
       "9327                            BARRIO NUEVO  79418369   \n",
       "9328                     BARRIO BUENOS AIRES  47097386   \n",
       "9329                         BARRIO EL CAMPO  55958103   \n",
       "9330                        BARRIO EL CENTRO  41447589   \n",
       "\n",
       "                           SUPERVISOR                        DIRECTOR  \\\n",
       "0     MERCEDES JOSEFINA TORRES GALVEZ       GUSTAVO ADOLFO SIERRA POP   \n",
       "1     MERCEDES JOSEFINA TORRES GALVEZ  GILMA DOLORES GUAY PAZ DE LEAL   \n",
       "2     MERCEDES JOSEFINA TORRES GALVEZ         VIRGINIA SOLANO SERRANO   \n",
       "3                 RUDY ADOLFO TOT OCH         HɃTOR ROLANDO CHUN POOU   \n",
       "4                 RUDY ADOLFO TOT OCH      VICTOR HUGO DOM͎GUEZ REYES   \n",
       "...                               ...                             ...   \n",
       "9326        ASBEL IVAN SUCHITE ARROYO         ANA MAŔ CUELLAR GUERRA   \n",
       "9327        ASBEL IVAN SUCHITE ARROYO         ANA MAŔ CUELLAR GUERRA   \n",
       "9328       SILDY MARIELA PEREZ FRANCO     MARLON JOSUɠARCHILA LORENZO   \n",
       "9329       SILDY MARIELA PEREZ FRANCO       ROBIDIO PORTILLO SALGUERO   \n",
       "9330                  ALBA LUZ MENDEZ       VICTOR HUGO GUERRA MONROY   \n",
       "\n",
       "              NIVEL       SECTOR    AREA   STATUS   MODALIDAD      JORNADA  \\\n",
       "0     DIVERSIFICADO      PRIVADO  URBANA  ABIERTA  MONOLINGUE     MATUTINA   \n",
       "1     DIVERSIFICADO      PRIVADO  URBANA  ABIERTA  MONOLINGUE     MATUTINA   \n",
       "2     DIVERSIFICADO      PRIVADO  URBANA  ABIERTA  MONOLINGUE     MATUTINA   \n",
       "3     DIVERSIFICADO      OFICIAL  URBANA  ABIERTA  MONOLINGUE     MATUTINA   \n",
       "4     DIVERSIFICADO      OFICIAL  URBANA  ABIERTA    BILINGUE   VESPERTINA   \n",
       "...             ...          ...     ...      ...         ...          ...   \n",
       "9326  DIVERSIFICADO      PRIVADO  URBANA  ABIERTA  MONOLINGUE     MATUTINA   \n",
       "9327  DIVERSIFICADO      PRIVADO  URBANA  ABIERTA  MONOLINGUE  SIN JORNADA   \n",
       "9328  DIVERSIFICADO      OFICIAL  URBANA  ABIERTA  MONOLINGUE     NOCTURNA   \n",
       "9329  DIVERSIFICADO  COOPERATIVA  URBANA  ABIERTA  MONOLINGUE   VESPERTINA   \n",
       "9330  DIVERSIFICADO  COOPERATIVA  URBANA  ABIERTA  MONOLINGUE     MATUTINA   \n",
       "\n",
       "                                    PLAN DEPARTAMENTAL  \n",
       "0                        DIARIO(REGULAR)  ALTA VERAPAZ  \n",
       "1                        DIARIO(REGULAR)  ALTA VERAPAZ  \n",
       "2                        DIARIO(REGULAR)  ALTA VERAPAZ  \n",
       "3                        DIARIO(REGULAR)  ALTA VERAPAZ  \n",
       "4                        DIARIO(REGULAR)  ALTA VERAPAZ  \n",
       "...                                  ...           ...  \n",
       "9326                     DIARIO(REGULAR)        ZACAPA  \n",
       "9327  SEMIPRESENCIAL (UN D́ A LA SEMANA)        ZACAPA  \n",
       "9328                     DIARIO(REGULAR)        ZACAPA  \n",
       "9329                     DIARIO(REGULAR)        ZACAPA  \n",
       "9330                     DIARIO(REGULAR)        ZACAPA  \n",
       "\n",
       "[9331 rows x 17 columns]"
      ]
     },
     "execution_count": 828,
     "metadata": {},
     "output_type": "execute_result"
    }
   ],
   "source": [
    "education = pd.read_csv('education.csv')\n",
    "\n",
    "education"
   ]
  },
  {
   "cell_type": "markdown",
   "metadata": {},
   "source": [
    "### Amount of columns"
   ]
  },
  {
   "cell_type": "code",
   "execution_count": 829,
   "metadata": {},
   "outputs": [],
   "source": [
    "education['DISTRITO'] = education['DISTRITO']"
   ]
  },
  {
   "cell_type": "markdown",
   "metadata": {},
   "source": [
    "## Dataset Transformations"
   ]
  },
  {
   "cell_type": "markdown",
   "metadata": {},
   "source": [
    "#### DISTRITO"
   ]
  },
  {
   "cell_type": "markdown",
   "metadata": {},
   "source": [
    "Change: Replace every null value with the first 3 characters of the district to identify in the department"
   ]
  },
  {
   "cell_type": "markdown",
   "metadata": {},
   "source": [
    "Reason: To keep the dataset as consistent as posible across all values"
   ]
  },
  {
   "cell_type": "code",
   "execution_count": 830,
   "metadata": {},
   "outputs": [],
   "source": [
    "# Function to replace NaN with first 3 chars of previous entry\n",
    "def replace_missing_values(df, column_name):\n",
    "    for i in range(1, len(df)):\n",
    "        if pd.isna(df.loc[i, column_name]):\n",
    "            if not pd.isna(df.loc[i-1, column_name]):\n",
    "                df.loc[i, column_name] = df.loc[i-1, column_name][:3]\n",
    "    return df\n",
    "\n",
    "# Replace missing values\n",
    "df = replace_missing_values(education, 'DISTRITO')"
   ]
  },
  {
   "cell_type": "markdown",
   "metadata": {},
   "source": [
    "#### DEPARTAMENTO"
   ]
  },
  {
   "cell_type": "markdown",
   "metadata": {},
   "source": [
    "Change: Replace every space for '_' symbol and replace every lowercase value with uppercase value."
   ]
  },
  {
   "cell_type": "markdown",
   "metadata": {},
   "source": [
    "Reason: To avoid issues when accessing values"
   ]
  },
  {
   "cell_type": "code",
   "execution_count": 831,
   "metadata": {},
   "outputs": [],
   "source": [
    "# Reemplazamos\n",
    "education['DEPARTAMENTO'] = education['DEPARTAMENTO'].replace(' ', '_', regex=True)\n",
    "education['DEPARTAMENTO'] = education['DEPARTAMENTO'].str.upper()"
   ]
  },
  {
   "cell_type": "markdown",
   "metadata": {},
   "source": [
    "#### MUNICIPIO"
   ]
  },
  {
   "cell_type": "markdown",
   "metadata": {},
   "source": [
    "Change: Replace every space with '_' symbol."
   ]
  },
  {
   "cell_type": "markdown",
   "metadata": {},
   "source": [
    "Reason: To avoid issues when accessing values and keep a consistent style across all columns"
   ]
  },
  {
   "cell_type": "code",
   "execution_count": 832,
   "metadata": {},
   "outputs": [],
   "source": [
    "education['MUNICIPIO'] = education['MUNICIPIO'].replace(' ', '_', regex=True)"
   ]
  },
  {
   "cell_type": "markdown",
   "metadata": {},
   "source": [
    "#### ESTABLECIMIENTO: "
   ]
  },
  {
   "cell_type": "markdown",
   "metadata": {},
   "source": [
    "Replace unknown symbols and writing mistakes"
   ]
  },
  {
   "cell_type": "markdown",
   "metadata": {},
   "source": [
    "Reason: To avoid misunderstandings with names and avoid same values names to be different"
   ]
  },
  {
   "cell_type": "code",
   "execution_count": 833,
   "metadata": {},
   "outputs": [],
   "source": [
    "education['ESTABLISHMENT'] = education['ESTABLECIMIENTO']\n",
    "education['ESTABLISHMENT'] = education['ESTABLISHMENT'].str.replace('я', 'ÑO', regex=True)\n",
    "education['ESTABLISHMENT'] = education['ESTABLISHMENT'].str.replace('ӎ', 'ON', regex=True)\n",
    "education['ESTABLISHMENT'] = education['ESTABLISHMENT'].str.replace('Ŕ', 'RIA', regex=True)\n",
    "education['ESTABLISHMENT'] = education['ESTABLISHMENT'].str.replace('ɖ', 'RE', regex=True)\n",
    "education['ESTABLISHMENT'] = education['ESTABLISHMENT'].str.replace('ɓ', 'E', regex=True)\n",
    "education['ESTABLISHMENT'] = education['ESTABLISHMENT'].str.replace('F́', 'FIA', regex=True)\n",
    "education['ESTABLISHMENT'] = education['ESTABLISHMENT'].str.replace('Ǵ', 'GICO', regex=True)\n",
    "education['ESTABLISHMENT'] = education['ESTABLISHMENT'].str.replace('ɒ', 'ER', regex=True)\n",
    "education['ESTABLISHMENT'] = education['ESTABLISHMENT'].str.replace('ɇ', 'EG', regex=True)\n",
    "education['ESTABLISHMENT'] = education['ESTABLISHMENT'].str.replace('Ӈ', 'OG', regex=True)\n",
    "education['ESTABLISHMENT'] = education['ESTABLISHMENT'].str.replace('Ƀ', 'EC', regex=True)\n",
    "education['ESTABLISHMENT'] = education['ESTABLISHMENT'].str.replace('ɘ', '', regex=True)#######\n",
    "education['ESTABLISHMENT'] = education['ESTABLISHMENT'].str.replace('R͓', 'RIS', regex=True)\n",
    "education['ESTABLISHMENT'] = education['ESTABLISHMENT'].str.replace('L͔', 'LIT', regex=True)\n",
    "education['ESTABLISHMENT'] = education['ESTABLISHMENT'].str.replace('U͎', 'UIN', regex=True)\n",
    "education['ESTABLISHMENT'] = education['ESTABLISHMENT'].str.replace('T͆', 'TIF', regex=True)\n",
    "education['ESTABLISHMENT'] = education['ESTABLISHMENT'].str.replace('ӌ', 'OL', regex=True)\n",
    "education['ESTABLISHMENT'] = education['ESTABLISHMENT'].str.replace('ڂ', 'UB', regex=True)\n",
    "education['ESTABLISHMENT'] = education['ESTABLISHMENT'].str.replace('ڍ', 'UM', regex=True)\n",
    "education['ESTABLISHMENT'] = education['ESTABLISHMENT'].str.replace('R͑', 'RIQ', regex=True)\n",
    "education['ESTABLISHMENT'] = education['ESTABLISHMENT'].str.replace('ړ', 'US', regex=True)\n",
    "education['ESTABLISHMENT'] = education['ESTABLISHMENT'].str.replace('D͎', 'DIN', regex=True)\n",
    "education['ESTABLISHMENT'] = education['ESTABLISHMENT'].str.replace('T͎', 'TIN', regex=True)\n",
    "education['ESTABLISHMENT'] = education['ESTABLISHMENT'].str.replace('Ӂ', 'OB', regex=True)\n",
    "education['ESTABLISHMENT'] = education['ESTABLISHMENT'].str.replace('Ɏ', 'LO', regex=True)\n",
    "education['ESTABLISHMENT'] = education['ESTABLISHMENT'].str.replace('J̓', 'PAJ', regex=True)\n",
    "education['ESTABLISHMENT'] = education['ESTABLISHMENT'].str.replace('A͓', 'AIS', regex=True)\n",
    "education['ESTABLISHMENT'] = education['ESTABLISHMENT'].str.replace('/td>', '', regex=True)\n",
    "education['ESTABLISHMENT'] = education['ESTABLISHMENT'].str.replace('Ɍ', 'EM', regex=True)\n",
    "education['ESTABLISHMENT'] = education['ESTABLISHMENT'].str.replace('TECPN', 'TECPAN', regex=True)\n",
    "education['ESTABLISHMENT'] = education['ESTABLISHMENT'].str.replace('ENSEсNZA', 'ENSEÑANZA', regex=True)\n",
    "education['ESTABLISHMENT'] = education['ESTABLISHMENT'].str.replace('EDUCACIҎ', 'EDUCACION', regex=True)\n",
    "education['ESTABLISHMENT'] = education['ESTABLISHMENT'].str.replace('BSICA', 'BASICA', regex=True)\n",
    "education['ESTABLISHMENT'] = education['ESTABLISHMENT'].str.replace('TECNӌOGICO', 'TECNOLOGICO', regex=True)\n",
    "education['ESTABLISHMENT'] = education['ESTABLISHMENT'].str.replace('EVANGȌICO', 'EVANGELICO', regex=True)\n",
    "education['ESTABLISHMENT'] = education['ESTABLISHMENT'].str.replace('EVANGɌICO', 'EVANGELICO', regex=True)\n",
    "education['ESTABLISHMENT'] = education['ESTABLISHMENT'].str.replace('EVAANGELICO', 'EVANGELICO', regex=True)\n",
    "education['ESTABLISHMENT'] = education['ESTABLISHMENT'].str.replace('BILING܅', 'BILINGUE', regex=True)\n",
    "education['ESTABLISHMENT'] = education['ESTABLISHMENT'].str.replace('TRILING܅', 'TRILINGUE', regex=True)\n",
    "education['ESTABLISHMENT'] = education['ESTABLISHMENT'].str.replace('ASOCAICION', 'ASOCIACION', regex=True)\n",
    "education['ESTABLISHMENT'] = education['ESTABLISHMENT'].str.replace('ASOCIACIɎ', 'ASOCIACION', regex=True)\n",
    "education['ESTABLISHMENT'] = education['ESTABLISHMENT'].str.replace('INTITUTO', 'INSTITUTO', regex=True)\n",
    "education['ESTABLISHMENT'] = education['ESTABLISHMENT'].str.replace('INFORMTICA', 'INFORMATICA', regex=True)\n",
    "education['ESTABLISHMENT'] = education['ESTABLISHMENT'].str.replace('GETSEMAN͢', 'GETSEMANI', regex=True)\n",
    "education['ESTABLISHMENT'] = education['ESTABLISHMENT'].str.replace('SINA͢', 'SINA', regex=True)\n",
    "\n",
    "education['ESTABLISHMENT'] = education['ESTABLISHMENT'].str.replace('BERNABɼ', 'BERNABO', regex=True)\n",
    "education['ESTABLISHMENT'] = education['ESTABLISHMENT'].str.replace('NGEL', 'ANGEL', regex=True)\n",
    "education['ESTABLISHMENT'] = education['ESTABLISHMENT'].str.replace('SARAZځ', 'SARAZO', regex=True)\n",
    "education['ESTABLISHMENT'] = education['ESTABLISHMENT'].str.replace('LVAREZ', 'ALVAREZ', regex=True)\n",
    "education['ESTABLISHMENT'] = education['ESTABLISHMENT'].str.replace('JOSɠ', 'JOSE', regex=True)\n",
    "education['ESTABLISHMENT'] = education['ESTABLISHMENT'].str.replace('JOSɢ', 'JOSE', regex=True)\n",
    "education['ESTABLISHMENT'] = education['ESTABLISHMENT'].str.replace('JOSɼ', 'JOSE', regex=True)"
   ]
  },
  {
   "cell_type": "markdown",
   "metadata": {},
   "source": [
    "Change: Delete quotes, single quotes and hyphen"
   ]
  },
  {
   "cell_type": "markdown",
   "metadata": {},
   "source": [
    "Reason: To avoid same names with added symbols to create different values"
   ]
  },
  {
   "cell_type": "code",
   "execution_count": 834,
   "metadata": {},
   "outputs": [],
   "source": [
    "education['ESTABLISHMENT'] = education['ESTABLISHMENT'].replace(\"'\", '', regex=True)\n",
    "education['ESTABLISHMENT'] = education['ESTABLISHMENT'].replace('-', '', regex=True)\n",
    "education['ESTABLISHMENT'] = education['ESTABLISHMENT'].replace('\"', '', regex=True)"
   ]
  },
  {
   "cell_type": "markdown",
   "metadata": {},
   "source": [
    "Change: Delete parenthesis and commas"
   ]
  },
  {
   "cell_type": "markdown",
   "metadata": {},
   "source": [
    "Reason: To avoid same names with added symbols to create different values"
   ]
  },
  {
   "cell_type": "code",
   "execution_count": 835,
   "metadata": {},
   "outputs": [],
   "source": [
    "education['ESTABLISHMENT'] = education['ESTABLISHMENT'].replace({r'[(),]': ''}, regex=True)"
   ]
  },
  {
   "cell_type": "markdown",
   "metadata": {},
   "source": [
    "Change: Delete double spaces and change them to underscore"
   ]
  },
  {
   "cell_type": "markdown",
   "metadata": {},
   "source": [
    "Reason: To avoid issues when accessing data and keep a consistent style across all columns"
   ]
  },
  {
   "cell_type": "code",
   "execution_count": 836,
   "metadata": {},
   "outputs": [],
   "source": [
    "education['ESTABLISHMENT'] = education['ESTABLISHMENT'].replace('  ', ' ', regex=True)\n",
    "education['ESTABLISHMENT'] = education['ESTABLISHMENT'].replace(' ', '_', regex=True)"
   ]
  },
  {
   "cell_type": "markdown",
   "metadata": {},
   "source": [
    "Change: Change everything to uppercase"
   ]
  },
  {
   "cell_type": "markdown",
   "metadata": {},
   "source": [
    "Reason: Create a consistent style across all columns"
   ]
  },
  {
   "cell_type": "code",
   "execution_count": 837,
   "metadata": {},
   "outputs": [],
   "source": [
    "education['ESTABLISHMENT'] = education['ESTABLISHMENT'].str.upper()"
   ]
  },
  {
   "cell_type": "markdown",
   "metadata": {},
   "source": [
    "#### DIRECCIÓN: "
   ]
  },
  {
   "cell_type": "markdown",
   "metadata": {},
   "source": [
    "Change: Replace unknown symbols"
   ]
  },
  {
   "cell_type": "markdown",
   "metadata": {},
   "source": [
    "Reason: To avoid misunderstandings with names and avoid same values names to be different"
   ]
  },
  {
   "cell_type": "code",
   "execution_count": 838,
   "metadata": {},
   "outputs": [],
   "source": [
    "def replace_dot_with_nan(value):\n",
    "    if isinstance(value, str) and (value == '.' or value == '-' or value == '--' or value == '---') and len(value) < 4:\n",
    "        return np.nan\n",
    "    return value"
   ]
  },
  {
   "cell_type": "markdown",
   "metadata": {},
   "source": [
    "Change: Fill missing values with 'No Especificado'"
   ]
  },
  {
   "cell_type": "markdown",
   "metadata": {},
   "source": [
    "Reason: To keep the dataset as consistent as possible across all values"
   ]
  },
  {
   "cell_type": "code",
   "execution_count": 839,
   "metadata": {},
   "outputs": [],
   "source": [
    "education['DIRECCION'] = education['DIRECCION'].apply(replace_dot_with_nan)\n",
    "education['DIRECCION'] = education['DIRECCION'].replace(np.nan, 'No Especificado', regex=True)"
   ]
  },
  {
   "cell_type": "markdown",
   "metadata": {},
   "source": [
    "Change: Replace unknown symbols and writing mistakes"
   ]
  },
  {
   "cell_type": "markdown",
   "metadata": {},
   "source": [
    "Reason: To avoid misunderstandings with names and avoid same values names to be different"
   ]
  },
  {
   "cell_type": "code",
   "execution_count": 840,
   "metadata": {},
   "outputs": [],
   "source": [
    "education['DIRECCION'] = education['DIRECCION'].str.replace('я', 'ÑO', regex=True)\n",
    "education['DIRECCION'] = education['DIRECCION'].str.replace('ӎ', 'ON', regex=True)\n",
    "education['DIRECCION'] = education['DIRECCION'].str.replace('Ŕ', 'RIA', regex=True)\n",
    "education['DIRECCION'] = education['DIRECCION'].str.replace('ɖ', 'RE', regex=True)\n",
    "education['DIRECCION'] = education['DIRECCION'].str.replace('ɓ', 'E', regex=True)\n",
    "education['DIRECCION'] = education['DIRECCION'].str.replace('F́', 'FIA', regex=True)\n",
    "education['DIRECCION'] = education['DIRECCION'].str.replace('Ǵ', 'GICO', regex=True)\n",
    "education['DIRECCION'] = education['DIRECCION'].str.replace('ɒ', 'ER', regex=True)\n",
    "education['DIRECCION'] = education['DIRECCION'].str.replace('ɇ', 'EG', regex=True)\n",
    "education['DIRECCION'] = education['DIRECCION'].str.replace('Ӈ', 'OG', regex=True)\n",
    "education['DIRECCION'] = education['DIRECCION'].str.replace('Ƀ', 'EC', regex=True)\n",
    "education['DIRECCION'] = education['DIRECCION'].str.replace('ɘ', '', regex=True)#######\n",
    "education['DIRECCION'] = education['DIRECCION'].str.replace('R͓', 'RIS', regex=True)\n",
    "education['DIRECCION'] = education['DIRECCION'].str.replace('L͔', 'LIT', regex=True)\n",
    "education['DIRECCION'] = education['DIRECCION'].str.replace('U͎', 'UIN', regex=True)\n",
    "education['DIRECCION'] = education['DIRECCION'].str.replace('T͆', 'TIF', regex=True)\n",
    "education['DIRECCION'] = education['DIRECCION'].str.replace('ӌ', 'OL', regex=True)\n",
    "education['DIRECCION'] = education['DIRECCION'].str.replace('ڂ', 'UB', regex=True)\n",
    "education['DIRECCION'] = education['DIRECCION'].str.replace('ڍ', 'UM', regex=True)\n",
    "education['DIRECCION'] = education['DIRECCION'].str.replace('R͑', 'RIQ', regex=True)\n",
    "education['DIRECCION'] = education['DIRECCION'].str.replace('ړ', 'US', regex=True)\n",
    "education['DIRECCION'] = education['DIRECCION'].str.replace('D͎', 'DIN', regex=True)\n",
    "education['DIRECCION'] = education['DIRECCION'].str.replace('T͎', 'TIN', regex=True)\n",
    "education['DIRECCION'] = education['DIRECCION'].str.replace('Ӂ', 'OB', regex=True)\n",
    "education['DIRECCION'] = education['DIRECCION'].str.replace('Ɏ', 'LO', regex=True)\n",
    "education['DIRECCION'] = education['DIRECCION'].str.replace('J̓', 'PAJ', regex=True)\n",
    "education['DIRECCION'] = education['DIRECCION'].str.replace('A͓', 'AIS', regex=True)\n",
    "education['DIRECCION'] = education['DIRECCION'].str.replace('/td>', '', regex=True)\n",
    "education['DIRECCION'] = education['DIRECCION'].str.replace('Ɍ', 'EM', regex=True)\n",
    "\n",
    "education['DIRECCION'] = education['DIRECCION'].replace('AVENIDA', 'AV.', regex=True)\n",
    "education['DIRECCION'] = education['DIRECCION'].replace('AVE.', 'AV.', regex=True)\n",
    "education['DIRECCION'] = education['DIRECCION'].replace('1RA', '1ERA', regex=True)"
   ]
  },
  {
   "cell_type": "code",
   "execution_count": 841,
   "metadata": {},
   "outputs": [],
   "source": [
    "# education['DIRECCION'] = education['DIRECCION'].replace(\"'\", '', regex=True)\n",
    "# education['DIRECCION'] = education['DIRECCION'].replace('-', '', regex=True)\n",
    "education['DIRECCION'] = education['DIRECCION'].replace('\"', '', regex=True)"
   ]
  },
  {
   "cell_type": "markdown",
   "metadata": {},
   "source": [
    "Change: Delete parenthesis, square brackets and commas"
   ]
  },
  {
   "cell_type": "markdown",
   "metadata": {},
   "source": [
    "Reason: To avoid same names with added symbols to create different values"
   ]
  },
  {
   "cell_type": "code",
   "execution_count": 842,
   "metadata": {},
   "outputs": [],
   "source": [
    "education['DIRECCION'] = education['DIRECCION'].replace({r'[(),]': ''}, regex=True)"
   ]
  },
  {
   "cell_type": "markdown",
   "metadata": {},
   "source": [
    "Change: Delete double spaces and change them to underscore"
   ]
  },
  {
   "cell_type": "markdown",
   "metadata": {},
   "source": [
    "Reason: To avoid issues when accessing data and keep a consistent style across all columns"
   ]
  },
  {
   "cell_type": "code",
   "execution_count": 843,
   "metadata": {},
   "outputs": [],
   "source": [
    "education['DIRECCION'] = education['DIRECCION'].replace('  ', ' ', regex=True)\n",
    "education['DIRECCION'] = education['DIRECCION'].replace(' ', '_', regex=True)"
   ]
  },
  {
   "cell_type": "markdown",
   "metadata": {},
   "source": [
    "Change: Change everything to uppercase"
   ]
  },
  {
   "cell_type": "markdown",
   "metadata": {},
   "source": [
    "Reason: Create a consistent style across all columns"
   ]
  },
  {
   "cell_type": "code",
   "execution_count": 844,
   "metadata": {},
   "outputs": [],
   "source": [
    "education['DIRECCION'] = education['DIRECCION'].str.upper()"
   ]
  },
  {
   "cell_type": "markdown",
   "metadata": {},
   "source": [
    "#### TELÉFONO"
   ]
  },
  {
   "cell_type": "markdown",
   "metadata": {},
   "source": [
    "Change: Fill the missing values of numbers that don't get to the standard 8 numbers"
   ]
  },
  {
   "cell_type": "markdown",
   "metadata": {},
   "source": [
    "Reason: To keep consistency of data across all values"
   ]
  },
  {
   "cell_type": "code",
   "execution_count": 845,
   "metadata": {},
   "outputs": [],
   "source": [
    "education['TELEFONO'] = education['TELEFONO'].apply(lambda x: np.nan if isinstance(x, str) and len(x) < 8 else x)"
   ]
  },
  {
   "cell_type": "markdown",
   "metadata": {},
   "source": [
    "Change: Get first and second number in two different columns"
   ]
  },
  {
   "cell_type": "markdown",
   "metadata": {},
   "source": [
    "Reason: To separate phone numbers and treat them separately"
   ]
  },
  {
   "cell_type": "code",
   "execution_count": 846,
   "metadata": {},
   "outputs": [],
   "source": [
    "def split_telefono(telefono):\n",
    "    if pd.isna(telefono) or (isinstance(telefono, str) and len(telefono) < 8):\n",
    "        return [np.nan, np.nan]\n",
    "    elif ', ' in telefono:\n",
    "        parts = telefono.split(', ')\n",
    "        if len(parts) >= 2:\n",
    "            if len(parts[0]) == 8 and len(parts[1]) == 8:\n",
    "                return parts[:2]\n",
    "            elif len(parts[0]) == 8:\n",
    "                return [parts[0], np.nan]\n",
    "            else:\n",
    "                [telefono, np.nan]\n",
    "    elif '-' in telefono:\n",
    "        parts = telefono.split('-')\n",
    "        if len(parts) >= 2:\n",
    "            if len(parts[0]) == 8 and len(parts[1]) == 8:\n",
    "                return parts[:2]\n",
    "            elif len(parts[0]) == 8:\n",
    "                return [parts[0], np.nan]\n",
    "            else:\n",
    "                [telefono, np.nan]\n",
    "    elif '/' in telefono:\n",
    "        parts = telefono.split('/')\n",
    "        if len(parts) >= 2:\n",
    "            if len(parts[0]) == 8 and len(parts[1]) == 8:\n",
    "                return parts[:2]\n",
    "            elif len(parts[0]) == 8:\n",
    "                return [parts[0], np.nan]\n",
    "            else:\n",
    "                [telefono, np.nan]\n",
    "    elif ' ' in telefono:\n",
    "        parts = telefono.split(' ')\n",
    "        if len(parts) >= 2:\n",
    "            if len(parts[0]) == 8 and len(parts[1]) == 8:\n",
    "                return parts[:2]\n",
    "            elif len(parts[0]) == 8:\n",
    "                return [parts[0], np.nan]\n",
    "            else:\n",
    "                [telefono, np.nan]\n",
    "    else:\n",
    "        return [telefono, np.nan]\n",
    "\n",
    "education[['TELEFONO_PRIMERO', 'TELEFONO_SEGUNDO']] = education['TELEFONO'].apply(split_telefono).apply(pd.Series)\n"
   ]
  },
  {
   "cell_type": "markdown",
   "metadata": {},
   "source": [
    "Change: Drop 'TELEFONO' column"
   ]
  },
  {
   "cell_type": "markdown",
   "metadata": {},
   "source": [
    "Reason: To avoid duplicated values"
   ]
  },
  {
   "cell_type": "code",
   "execution_count": 847,
   "metadata": {},
   "outputs": [],
   "source": [
    "education.drop(columns=['TELEFONO'], inplace=True)"
   ]
  },
  {
   "cell_type": "markdown",
   "metadata": {},
   "source": [
    "### SUPERVISOR"
   ]
  },
  {
   "cell_type": "markdown",
   "metadata": {},
   "source": [
    "Change: Replace null values with 'NO ESPECIFICADO'"
   ]
  },
  {
   "cell_type": "markdown",
   "metadata": {},
   "source": [
    "Reason: To avoid issues with missing values"
   ]
  },
  {
   "cell_type": "code",
   "execution_count": 848,
   "metadata": {},
   "outputs": [],
   "source": [
    "education['SUPERVISOR'] = education['SUPERVISOR'].replace(np.nan, 'NO ESPECIFICADO', regex=True)"
   ]
  },
  {
   "cell_type": "markdown",
   "metadata": {},
   "source": [
    "Change: Replace unknown symbols and writing mistakes"
   ]
  },
  {
   "cell_type": "markdown",
   "metadata": {},
   "source": [
    "Reason: To avoid misunderstandings with names and avoid same values names to be different"
   ]
  },
  {
   "cell_type": "code",
   "execution_count": 849,
   "metadata": {},
   "outputs": [],
   "source": [
    "education['SUPERVISOR'] = education['SUPERVISOR'].str.replace('я', 'ÑO', regex=True)\n",
    "education['SUPERVISOR'] = education['SUPERVISOR'].str.replace('ӎ', 'ON', regex=True)\n",
    "education['SUPERVISOR'] = education['SUPERVISOR'].str.replace('Ŕ', 'RIA', regex=True)\n",
    "education['SUPERVISOR'] = education['SUPERVISOR'].str.replace('ɖ', 'RE', regex=True)\n",
    "education['SUPERVISOR'] = education['SUPERVISOR'].str.replace('ɓ', 'E', regex=True)\n",
    "education['SUPERVISOR'] = education['SUPERVISOR'].str.replace('F́', 'FIA', regex=True)\n",
    "education['SUPERVISOR'] = education['SUPERVISOR'].str.replace('Ǵ', 'GICO', regex=True)\n",
    "education['SUPERVISOR'] = education['SUPERVISOR'].str.replace('ɒ', 'ER', regex=True)\n",
    "education['SUPERVISOR'] = education['SUPERVISOR'].str.replace('ɇ', 'EG', regex=True)\n",
    "education['SUPERVISOR'] = education['SUPERVISOR'].str.replace('Ӈ', 'OG', regex=True)\n",
    "education['SUPERVISOR'] = education['SUPERVISOR'].str.replace('Ƀ', 'EC', regex=True)\n",
    "education['SUPERVISOR'] = education['SUPERVISOR'].str.replace('ɘ', '', regex=True)#######\n",
    "education['SUPERVISOR'] = education['SUPERVISOR'].str.replace('R͓', 'RIS', regex=True)\n",
    "education['SUPERVISOR'] = education['SUPERVISOR'].str.replace('L͔', 'LIT', regex=True)\n",
    "education['SUPERVISOR'] = education['SUPERVISOR'].str.replace('U͎', 'UIN', regex=True)\n",
    "education['SUPERVISOR'] = education['SUPERVISOR'].str.replace('T͆', 'TIF', regex=True)\n",
    "education['SUPERVISOR'] = education['SUPERVISOR'].str.replace('ӌ', 'OL', regex=True)\n",
    "education['SUPERVISOR'] = education['SUPERVISOR'].str.replace('ڂ', 'UB', regex=True)\n",
    "education['SUPERVISOR'] = education['SUPERVISOR'].str.replace('ڍ', 'UM', regex=True)\n",
    "education['SUPERVISOR'] = education['SUPERVISOR'].str.replace('R͑', 'RIQ', regex=True)\n",
    "education['SUPERVISOR'] = education['SUPERVISOR'].str.replace('ړ', 'US', regex=True)\n",
    "education['SUPERVISOR'] = education['SUPERVISOR'].str.replace('D͎', 'DIN', regex=True)\n",
    "education['SUPERVISOR'] = education['SUPERVISOR'].str.replace('T͎', 'TIN', regex=True)\n",
    "education['SUPERVISOR'] = education['SUPERVISOR'].str.replace('Ӂ', 'OB', regex=True)\n",
    "education['SUPERVISOR'] = education['SUPERVISOR'].str.replace('Ɏ', 'LO', regex=True)\n",
    "education['SUPERVISOR'] = education['SUPERVISOR'].str.replace('J̓', 'PAJ', regex=True)\n",
    "education['SUPERVISOR'] = education['SUPERVISOR'].str.replace('A͓', 'AIS', regex=True)\n",
    "education['SUPERVISOR'] = education['SUPERVISOR'].str.replace('/td>', '', regex=True)\n",
    "education['SUPERVISOR'] = education['SUPERVISOR'].str.replace('Ɍ', 'EM', regex=True)\n",
    "\n",
    "education['SUPERVISOR'] = education['SUPERVISOR'].str.replace('BERNABɼ', 'BERNABO', regex=True)\n",
    "education['SUPERVISOR'] = education['SUPERVISOR'].str.replace('NGEL', 'ANGEL', regex=True)\n",
    "education['SUPERVISOR'] = education['SUPERVISOR'].str.replace('SARAZځ', 'SARAZO', regex=True)\n",
    "education['SUPERVISOR'] = education['SUPERVISOR'].str.replace('LVAREZ', 'ALVAREZ', regex=True)\n",
    "education['SUPERVISOR'] = education['SUPERVISOR'].str.replace('JOSɠ', 'JOSE', regex=True)\n",
    "education['SUPERVISOR'] = education['SUPERVISOR'].str.replace('JOSɢ', 'JOSE', regex=True)\n",
    "education['SUPERVISOR'] = education['SUPERVISOR'].str.replace('JOSɼ', 'JOSE', regex=True)"
   ]
  },
  {
   "cell_type": "markdown",
   "metadata": {},
   "source": [
    "Change: Delete double spaces and change them to underscore"
   ]
  },
  {
   "cell_type": "markdown",
   "metadata": {},
   "source": [
    "Reason: To avoid issues when accessing data and avoid same values names to be different"
   ]
  },
  {
   "cell_type": "code",
   "execution_count": 850,
   "metadata": {},
   "outputs": [],
   "source": [
    "education['SUPERVISOR'] = education['SUPERVISOR'].replace('  ', ' ', regex=True)\n",
    "education['SUPERVISOR'] = education['SUPERVISOR'].replace(' ', '_', regex=True)"
   ]
  },
  {
   "cell_type": "markdown",
   "metadata": {},
   "source": [
    "Change: Change everything to uppercase"
   ]
  },
  {
   "cell_type": "markdown",
   "metadata": {},
   "source": [
    "Reason: Create a consistent style across all columns"
   ]
  },
  {
   "cell_type": "code",
   "execution_count": 851,
   "metadata": {},
   "outputs": [],
   "source": [
    "education['SUPERVISOR'] = education['SUPERVISOR'].str.upper()"
   ]
  },
  {
   "cell_type": "markdown",
   "metadata": {},
   "source": [
    "### DIRECTOR"
   ]
  },
  {
   "cell_type": "markdown",
   "metadata": {},
   "source": [
    "Change: Replace null values with 'NO ESPECIFICADO'"
   ]
  },
  {
   "cell_type": "markdown",
   "metadata": {},
   "source": [
    "Reason: To avoid issues with missing values"
   ]
  },
  {
   "cell_type": "code",
   "execution_count": 852,
   "metadata": {},
   "outputs": [],
   "source": [
    "education['DIRECTOR'] = education['DIRECTOR'].replace(np.nan, 'NO ESPECIFICADO', regex=True)"
   ]
  },
  {
   "cell_type": "markdown",
   "metadata": {},
   "source": [
    "Change: Replace unknown symbols and writing mistakes"
   ]
  },
  {
   "cell_type": "markdown",
   "metadata": {},
   "source": [
    "Reason: To avoid misunderstandings with names and avoid same values names to be different"
   ]
  },
  {
   "cell_type": "code",
   "execution_count": 853,
   "metadata": {},
   "outputs": [],
   "source": [
    "education['DIRECTOR'] = education['DIRECTOR'].str.replace('я', 'ÑO', regex=True)\n",
    "education['DIRECTOR'] = education['DIRECTOR'].str.replace('ӎ', 'ON', regex=True)\n",
    "education['DIRECTOR'] = education['DIRECTOR'].str.replace('Ŕ', 'RIA', regex=True)\n",
    "education['DIRECTOR'] = education['DIRECTOR'].str.replace('ɖ', 'RE', regex=True)\n",
    "education['DIRECTOR'] = education['DIRECTOR'].str.replace('ɓ', 'E', regex=True)\n",
    "education['DIRECTOR'] = education['DIRECTOR'].str.replace('F́', 'FIA', regex=True)\n",
    "education['DIRECTOR'] = education['DIRECTOR'].str.replace('Ǵ', 'GICO', regex=True)\n",
    "education['DIRECTOR'] = education['DIRECTOR'].str.replace('ɒ', 'ER', regex=True)\n",
    "education['DIRECTOR'] = education['DIRECTOR'].str.replace('ɇ', 'EG', regex=True)\n",
    "education['DIRECTOR'] = education['DIRECTOR'].str.replace('Ӈ', 'OG', regex=True)\n",
    "education['DIRECTOR'] = education['DIRECTOR'].str.replace('Ƀ', 'EC', regex=True)\n",
    "education['DIRECTOR'] = education['DIRECTOR'].str.replace('ɘ', '', regex=True)#######\n",
    "education['DIRECTOR'] = education['DIRECTOR'].str.replace('R͓', 'RIS', regex=True)\n",
    "education['DIRECTOR'] = education['DIRECTOR'].str.replace('L͔', 'LIT', regex=True)\n",
    "education['DIRECTOR'] = education['DIRECTOR'].str.replace('U͎', 'UIN', regex=True)\n",
    "education['DIRECTOR'] = education['DIRECTOR'].str.replace('T͆', 'TIF', regex=True)\n",
    "education['DIRECTOR'] = education['DIRECTOR'].str.replace('ӌ', 'OL', regex=True)\n",
    "education['DIRECTOR'] = education['DIRECTOR'].str.replace('ڂ', 'UB', regex=True)\n",
    "education['DIRECTOR'] = education['DIRECTOR'].str.replace('ڍ', 'UM', regex=True)\n",
    "education['DIRECTOR'] = education['DIRECTOR'].str.replace('R͑', 'RIQ', regex=True)\n",
    "education['DIRECTOR'] = education['DIRECTOR'].str.replace('ړ', 'US', regex=True)\n",
    "education['DIRECTOR'] = education['DIRECTOR'].str.replace('D͎', 'DIN', regex=True)\n",
    "education['DIRECTOR'] = education['DIRECTOR'].str.replace('T͎', 'TIN', regex=True)\n",
    "education['DIRECTOR'] = education['DIRECTOR'].str.replace('Ӂ', 'OB', regex=True)\n",
    "education['DIRECTOR'] = education['DIRECTOR'].str.replace('Ɏ', 'LO', regex=True)\n",
    "education['DIRECTOR'] = education['DIRECTOR'].str.replace('J̓', 'PAJ', regex=True)\n",
    "education['DIRECTOR'] = education['DIRECTOR'].str.replace('A͓', 'AIS', regex=True)\n",
    "education['DIRECTOR'] = education['DIRECTOR'].str.replace('/td>', '', regex=True)\n",
    "education['DIRECTOR'] = education['DIRECTOR'].str.replace('Ɍ', 'EM', regex=True)\n",
    "\n",
    "education['DIRECTOR'] = education['DIRECTOR'].str.replace('BERNABɼ', 'BERNABO', regex=True)\n",
    "education['DIRECTOR'] = education['DIRECTOR'].str.replace('NGEL', 'ANGEL', regex=True)\n",
    "education['DIRECTOR'] = education['DIRECTOR'].str.replace('SARAZځ', 'SARAZO', regex=True)\n",
    "education['DIRECTOR'] = education['DIRECTOR'].str.replace('LVAREZ', 'ALVAREZ', regex=True)\n",
    "education['DIRECTOR'] = education['DIRECTOR'].str.replace('JOSɠ', 'JOSE', regex=True)\n",
    "education['DIRECTOR'] = education['DIRECTOR'].str.replace('JOSɢ', 'JOSE', regex=True)\n",
    "education['DIRECTOR'] = education['DIRECTOR'].str.replace('JOSɼ', 'JOSE', regex=True)"
   ]
  },
  {
   "cell_type": "markdown",
   "metadata": {},
   "source": [
    "Change: Delete double spaces and change them to underscore"
   ]
  },
  {
   "cell_type": "markdown",
   "metadata": {},
   "source": [
    "Reason: To avoid issues when accessing data and avoid same values names to be different"
   ]
  },
  {
   "cell_type": "code",
   "execution_count": 854,
   "metadata": {},
   "outputs": [],
   "source": [
    "education['DIRECTOR'] = education['DIRECTOR'].replace('  ', ' ', regex=True)\n",
    "education['DIRECTOR'] = education['DIRECTOR'].replace(' ', '_', regex=True)"
   ]
  },
  {
   "cell_type": "markdown",
   "metadata": {},
   "source": [
    "Change: Change everything to uppercase"
   ]
  },
  {
   "cell_type": "markdown",
   "metadata": {},
   "source": [
    "Reason: Create a consistent style across all columns"
   ]
  },
  {
   "cell_type": "code",
   "execution_count": 855,
   "metadata": {},
   "outputs": [],
   "source": [
    "education['DIRECTOR'] = education['DIRECTOR'].str.upper()"
   ]
  },
  {
   "cell_type": "markdown",
   "metadata": {},
   "source": [
    "### PLAN"
   ]
  },
  {
   "cell_type": "markdown",
   "metadata": {},
   "source": [
    "Change: Replace writing mistakes"
   ]
  },
  {
   "cell_type": "markdown",
   "metadata": {},
   "source": [
    "Reason: To avoid misunderstandings with names and avoid same values names to be different"
   ]
  },
  {
   "cell_type": "code",
   "execution_count": 856,
   "metadata": {},
   "outputs": [],
   "source": [
    "education['PLAN'] = education['PLAN'].str.replace('D́ A', 'DIA', regex=True)\n",
    "education['PLAN'] = education['PLAN'].str.replace('D́S', 'DIAS', regex=True)"
   ]
  },
  {
   "cell_type": "markdown",
   "metadata": {},
   "source": [
    "Change: Replace unknown symbols and writing mistakes"
   ]
  },
  {
   "cell_type": "markdown",
   "metadata": {},
   "source": [
    "Reason: Keep consistency of data across all values"
   ]
  },
  {
   "cell_type": "code",
   "execution_count": 857,
   "metadata": {},
   "outputs": [],
   "source": [
    "education['PLAN'] = education['PLAN'].replace(' ', '_', regex=True)\n",
    "education['PLAN'] = education['PLAN'].replace('Ɏ', 'EN', regex=True)\n",
    "education['PLAN'] = education['PLAN'].replace('QUICHɼ/td>', 'QUICHE', regex=True)\n",
    "education['PLAN'] = education['PLAN'].replace('QUICHɠNORTE', 'QUICHE NORTE', regex=True)\n",
    "education['PLAN'] = education['PLAN'].replace('SACATEPɑUEZ', 'SACATEPEQUEZ', regex=True)\n",
    "education['PLAN'] = education['PLAN'].replace('SOLOL|/td>', 'SOLOLA', regex=True)\n",
    "education['PLAN'] = education['PLAN'].replace('SOLOLA|SOLOLA', 'SOLOLA', regex=True)\n",
    "education['PLAN'] = education['PLAN'].replace('SOLOLAA|SOLOLAA', 'SOLOLA', regex=True)\n",
    "education['PLAN'] = education['PLAN'].replace('SUCHITEPɑUEZ', 'SUCHITEPEQUEZ', regex=True)\n",
    "education['PLAN'] = education['PLAN'].replace('TOTONICAPN', 'TOTONICAPAN', regex=True)"
   ]
  },
  {
   "cell_type": "markdown",
   "metadata": {},
   "source": [
    "Change: Add 'MADUREZ' column to know if the establishment accepts students by maturity"
   ]
  },
  {
   "cell_type": "markdown",
   "metadata": {},
   "source": [
    "Reason: To know if the establishment accepts students by maturity easier than looking for it in the name"
   ]
  },
  {
   "cell_type": "code",
   "execution_count": 858,
   "metadata": {},
   "outputs": [],
   "source": [
    "education['POR_MADUREZ'] = education['ESTABLECIMIENTO'].str.upper().str.contains('MADUREZ')"
   ]
  },
  {
   "cell_type": "markdown",
   "metadata": {},
   "source": [
    "### Departamental"
   ]
  },
  {
   "cell_type": "markdown",
   "metadata": {},
   "source": [
    "Change: Replace unknown symbols and writing mistakes"
   ]
  },
  {
   "cell_type": "markdown",
   "metadata": {},
   "source": [
    "Reason: Keep consistency of data across all values"
   ]
  },
  {
   "cell_type": "code",
   "execution_count": 859,
   "metadata": {},
   "outputs": [],
   "source": [
    "education['DEPARTAMENTAL'] = education['DEPARTAMENTAL'].replace(' ', '_', regex=True)\n",
    "education['DEPARTAMENTAL'] = education['DEPARTAMENTAL'].replace('Ɏ', 'EN', regex=True)\n",
    "education['DEPARTAMENTAL'] = education['DEPARTAMENTAL'].replace('QUICHɼ/td>', 'QUICHE', regex=True)\n",
    "education['DEPARTAMENTAL'] = education['DEPARTAMENTAL'].replace('QUICHɠNORTE', 'QUICHE NORTE', regex=True)\n",
    "education['DEPARTAMENTAL'] = education['DEPARTAMENTAL'].replace('SACATEPɑUEZ', 'SACATEPEQUEZ', regex=True)\n",
    "education['DEPARTAMENTAL'] = education['DEPARTAMENTAL'].replace('SOLOL|/td>', 'SOLOLA', regex=True)\n",
    "education['DEPARTAMENTAL'] = education['DEPARTAMENTAL'].replace('SOLOLA|SOLOLA', 'SOLOLA', regex=True)\n",
    "education['DEPARTAMENTAL'] = education['DEPARTAMENTAL'].replace('SOLOLAA|SOLOLAA', 'SOLOLA', regex=True)\n",
    "education['DEPARTAMENTAL'] = education['DEPARTAMENTAL'].replace('SUCHITEPɑUEZ', 'SUCHITEPEQUEZ', regex=True)\n",
    "education['DEPARTAMENTAL'] = education['DEPARTAMENTAL'].replace('TOTONICAPN', 'TOTONICAPAN', regex=True)"
   ]
  },
  {
   "cell_type": "markdown",
   "metadata": {},
   "source": [
    "### Export data to a clean csv"
   ]
  },
  {
   "cell_type": "code",
   "execution_count": 860,
   "metadata": {},
   "outputs": [
    {
     "data": {
      "text/html": [
       "<div>\n",
       "<style scoped>\n",
       "    .dataframe tbody tr th:only-of-type {\n",
       "        vertical-align: middle;\n",
       "    }\n",
       "\n",
       "    .dataframe tbody tr th {\n",
       "        vertical-align: top;\n",
       "    }\n",
       "\n",
       "    .dataframe thead th {\n",
       "        text-align: right;\n",
       "    }\n",
       "</style>\n",
       "<table border=\"1\" class=\"dataframe\">\n",
       "  <thead>\n",
       "    <tr style=\"text-align: right;\">\n",
       "      <th></th>\n",
       "      <th>CODIGO</th>\n",
       "      <th>DISTRITO</th>\n",
       "      <th>DEPARTAMENTO</th>\n",
       "      <th>MUNICIPIO</th>\n",
       "      <th>ESTABLECIMIENTO</th>\n",
       "      <th>DIRECCION</th>\n",
       "      <th>SUPERVISOR</th>\n",
       "      <th>DIRECTOR</th>\n",
       "      <th>NIVEL</th>\n",
       "      <th>SECTOR</th>\n",
       "      <th>AREA</th>\n",
       "      <th>STATUS</th>\n",
       "      <th>MODALIDAD</th>\n",
       "      <th>JORNADA</th>\n",
       "      <th>PLAN</th>\n",
       "      <th>DEPARTAMENTAL</th>\n",
       "      <th>ESTABLISHMENT</th>\n",
       "      <th>TELEFONO_PRIMERO</th>\n",
       "      <th>TELEFONO_SEGUNDO</th>\n",
       "      <th>POR_MADUREZ</th>\n",
       "    </tr>\n",
       "  </thead>\n",
       "  <tbody>\n",
       "    <tr>\n",
       "      <th>0</th>\n",
       "      <td>16-01-0138-46</td>\n",
       "      <td>16-031</td>\n",
       "      <td>ALTA_VERAPAZ</td>\n",
       "      <td>COBAN</td>\n",
       "      <td>COLEGIO COBAN</td>\n",
       "      <td>KM.2_SALIDA_A_SAN_JUAN_CHAMELCO_ZONA_8</td>\n",
       "      <td>MERCEDES_JOSEFINA_TORRES_GALVEZ</td>\n",
       "      <td>GUSTAVO_ADOLFO_SIERRA_POP</td>\n",
       "      <td>DIVERSIFICADO</td>\n",
       "      <td>PRIVADO</td>\n",
       "      <td>URBANA</td>\n",
       "      <td>ABIERTA</td>\n",
       "      <td>MONOLINGUE</td>\n",
       "      <td>MATUTINA</td>\n",
       "      <td>DIARIO(REGULAR)</td>\n",
       "      <td>ALTA_VERAPAZ</td>\n",
       "      <td>COLEGIO_COBAN</td>\n",
       "      <td>77945104</td>\n",
       "      <td>NaN</td>\n",
       "      <td>False</td>\n",
       "    </tr>\n",
       "    <tr>\n",
       "      <th>1</th>\n",
       "      <td>16-01-0139-46</td>\n",
       "      <td>16-031</td>\n",
       "      <td>ALTA_VERAPAZ</td>\n",
       "      <td>COBAN</td>\n",
       "      <td>COLEGIO PARTICULAR MIXTO VERAPAZ</td>\n",
       "      <td>KM_209.5_ENTRADA_A_LA_CIUDAD</td>\n",
       "      <td>MERCEDES_JOSEFINA_TORRES_GALVEZ</td>\n",
       "      <td>GILMA_DOLORES_GUAY_PAZ_DE_LEAL</td>\n",
       "      <td>DIVERSIFICADO</td>\n",
       "      <td>PRIVADO</td>\n",
       "      <td>URBANA</td>\n",
       "      <td>ABIERTA</td>\n",
       "      <td>MONOLINGUE</td>\n",
       "      <td>MATUTINA</td>\n",
       "      <td>DIARIO(REGULAR)</td>\n",
       "      <td>ALTA_VERAPAZ</td>\n",
       "      <td>COLEGIO_PARTICULAR_MIXTO_VERAPAZ</td>\n",
       "      <td>77367402</td>\n",
       "      <td>NaN</td>\n",
       "      <td>False</td>\n",
       "    </tr>\n",
       "    <tr>\n",
       "      <th>2</th>\n",
       "      <td>16-01-0140-46</td>\n",
       "      <td>16-031</td>\n",
       "      <td>ALTA_VERAPAZ</td>\n",
       "      <td>COBAN</td>\n",
       "      <td>COLEGIO \"LA INMACULADA\"</td>\n",
       "      <td>7A._AV._11-109_ZONA_6</td>\n",
       "      <td>MERCEDES_JOSEFINA_TORRES_GALVEZ</td>\n",
       "      <td>VIRGINIA_SOLANO_SERRANO</td>\n",
       "      <td>DIVERSIFICADO</td>\n",
       "      <td>PRIVADO</td>\n",
       "      <td>URBANA</td>\n",
       "      <td>ABIERTA</td>\n",
       "      <td>MONOLINGUE</td>\n",
       "      <td>MATUTINA</td>\n",
       "      <td>DIARIO(REGULAR)</td>\n",
       "      <td>ALTA_VERAPAZ</td>\n",
       "      <td>COLEGIO_LA_INMACULADA</td>\n",
       "      <td>78232301</td>\n",
       "      <td>NaN</td>\n",
       "      <td>False</td>\n",
       "    </tr>\n",
       "    <tr>\n",
       "      <th>3</th>\n",
       "      <td>16-01-0141-46</td>\n",
       "      <td>16-005</td>\n",
       "      <td>ALTA_VERAPAZ</td>\n",
       "      <td>COBAN</td>\n",
       "      <td>ESCUELA NACIONAL DE CIENCIAS COMERCIALES</td>\n",
       "      <td>2A_CALLE_11-10_ZONA_2</td>\n",
       "      <td>RUDY_ADOLFO_TOT_OCH</td>\n",
       "      <td>HECTOR_ROLANDO_CHUN_POOU</td>\n",
       "      <td>DIVERSIFICADO</td>\n",
       "      <td>OFICIAL</td>\n",
       "      <td>URBANA</td>\n",
       "      <td>ABIERTA</td>\n",
       "      <td>MONOLINGUE</td>\n",
       "      <td>MATUTINA</td>\n",
       "      <td>DIARIO(REGULAR)</td>\n",
       "      <td>ALTA_VERAPAZ</td>\n",
       "      <td>ESCUELA_NACIONAL_DE_CIENCIAS_COMERCIALES</td>\n",
       "      <td>79514215</td>\n",
       "      <td>NaN</td>\n",
       "      <td>False</td>\n",
       "    </tr>\n",
       "    <tr>\n",
       "      <th>4</th>\n",
       "      <td>16-01-0142-46</td>\n",
       "      <td>16-005</td>\n",
       "      <td>ALTA_VERAPAZ</td>\n",
       "      <td>COBAN</td>\n",
       "      <td>INSTITUTO NORMAL MIXTO DEL NORTE 'EMILIO ROSAL...</td>\n",
       "      <td>3A_AV.6-23_ZONA_11</td>\n",
       "      <td>RUDY_ADOLFO_TOT_OCH</td>\n",
       "      <td>VICTOR_HUGO_DOM͎GUEZ_REYES</td>\n",
       "      <td>DIVERSIFICADO</td>\n",
       "      <td>OFICIAL</td>\n",
       "      <td>URBANA</td>\n",
       "      <td>ABIERTA</td>\n",
       "      <td>BILINGUE</td>\n",
       "      <td>VESPERTINA</td>\n",
       "      <td>DIARIO(REGULAR)</td>\n",
       "      <td>ALTA_VERAPAZ</td>\n",
       "      <td>INSTITUTO_NORMAL_MIXTO_DEL_NORTE_EMILIO_ROSALE...</td>\n",
       "      <td>79521468</td>\n",
       "      <td>NaN</td>\n",
       "      <td>False</td>\n",
       "    </tr>\n",
       "    <tr>\n",
       "      <th>...</th>\n",
       "      <td>...</td>\n",
       "      <td>...</td>\n",
       "      <td>...</td>\n",
       "      <td>...</td>\n",
       "      <td>...</td>\n",
       "      <td>...</td>\n",
       "      <td>...</td>\n",
       "      <td>...</td>\n",
       "      <td>...</td>\n",
       "      <td>...</td>\n",
       "      <td>...</td>\n",
       "      <td>...</td>\n",
       "      <td>...</td>\n",
       "      <td>...</td>\n",
       "      <td>...</td>\n",
       "      <td>...</td>\n",
       "      <td>...</td>\n",
       "      <td>...</td>\n",
       "      <td>...</td>\n",
       "      <td>...</td>\n",
       "    </tr>\n",
       "    <tr>\n",
       "      <th>9326</th>\n",
       "      <td>19-09-0040-46</td>\n",
       "      <td>19-021</td>\n",
       "      <td>ZACAPA</td>\n",
       "      <td>LA_UNION</td>\n",
       "      <td>LICEO PARTICULAR MIXTO \"JIREH\"</td>\n",
       "      <td>BARRIO_NUEVO</td>\n",
       "      <td>ASBEL_IVAN_SUCHITE_ARROYO</td>\n",
       "      <td>ANA_MARIA_CUELLAR_GUERRA</td>\n",
       "      <td>DIVERSIFICADO</td>\n",
       "      <td>PRIVADO</td>\n",
       "      <td>URBANA</td>\n",
       "      <td>ABIERTA</td>\n",
       "      <td>MONOLINGUE</td>\n",
       "      <td>MATUTINA</td>\n",
       "      <td>DIARIO(REGULAR)</td>\n",
       "      <td>ZACAPA</td>\n",
       "      <td>LICEO_PARTICULAR_MIXTO_JIREH</td>\n",
       "      <td>79418369</td>\n",
       "      <td>NaN</td>\n",
       "      <td>False</td>\n",
       "    </tr>\n",
       "    <tr>\n",
       "      <th>9327</th>\n",
       "      <td>19-09-0048-46</td>\n",
       "      <td>19-021</td>\n",
       "      <td>ZACAPA</td>\n",
       "      <td>LA_UNION</td>\n",
       "      <td>LICEO PARTICULAR MIXTO \" JIREH\"</td>\n",
       "      <td>BARRIO_NUEVO</td>\n",
       "      <td>ASBEL_IVAN_SUCHITE_ARROYO</td>\n",
       "      <td>ANA_MARIA_CUELLAR_GUERRA</td>\n",
       "      <td>DIVERSIFICADO</td>\n",
       "      <td>PRIVADO</td>\n",
       "      <td>URBANA</td>\n",
       "      <td>ABIERTA</td>\n",
       "      <td>MONOLINGUE</td>\n",
       "      <td>SIN JORNADA</td>\n",
       "      <td>SEMIPRESENCIAL_(UN_DIA_LA_SEMANA)</td>\n",
       "      <td>ZACAPA</td>\n",
       "      <td>LICEO_PARTICULAR_MIXTO_JIREH</td>\n",
       "      <td>79418369</td>\n",
       "      <td>NaN</td>\n",
       "      <td>False</td>\n",
       "    </tr>\n",
       "    <tr>\n",
       "      <th>9328</th>\n",
       "      <td>19-10-0013-46</td>\n",
       "      <td>19-015</td>\n",
       "      <td>ZACAPA</td>\n",
       "      <td>HUITE</td>\n",
       "      <td>INSTITUTO DIVERSIFICADO</td>\n",
       "      <td>BARRIO_BUENOS_AIRES</td>\n",
       "      <td>SILDY_MARIELA_PEREZ_FRANCO</td>\n",
       "      <td>MARLON_JOSUƓARCHILA_LORENZO</td>\n",
       "      <td>DIVERSIFICADO</td>\n",
       "      <td>OFICIAL</td>\n",
       "      <td>URBANA</td>\n",
       "      <td>ABIERTA</td>\n",
       "      <td>MONOLINGUE</td>\n",
       "      <td>NOCTURNA</td>\n",
       "      <td>DIARIO(REGULAR)</td>\n",
       "      <td>ZACAPA</td>\n",
       "      <td>INSTITUTO_DIVERSIFICADO</td>\n",
       "      <td>47097386</td>\n",
       "      <td>NaN</td>\n",
       "      <td>False</td>\n",
       "    </tr>\n",
       "    <tr>\n",
       "      <th>9329</th>\n",
       "      <td>19-10-1009-46</td>\n",
       "      <td>19-015</td>\n",
       "      <td>ZACAPA</td>\n",
       "      <td>HUITE</td>\n",
       "      <td>INSTITUTO MIXTO DE EDUCACION DIVERSIFICADA POR...</td>\n",
       "      <td>BARRIO_EL_CAMPO</td>\n",
       "      <td>SILDY_MARIELA_PEREZ_FRANCO</td>\n",
       "      <td>ROBIDIO_PORTILLO_SALGUERO</td>\n",
       "      <td>DIVERSIFICADO</td>\n",
       "      <td>COOPERATIVA</td>\n",
       "      <td>URBANA</td>\n",
       "      <td>ABIERTA</td>\n",
       "      <td>MONOLINGUE</td>\n",
       "      <td>VESPERTINA</td>\n",
       "      <td>DIARIO(REGULAR)</td>\n",
       "      <td>ZACAPA</td>\n",
       "      <td>INSTITUTO_MIXTO_DE_EDUCACION_DIVERSIFICADA_POR...</td>\n",
       "      <td>55958103</td>\n",
       "      <td>NaN</td>\n",
       "      <td>False</td>\n",
       "    </tr>\n",
       "    <tr>\n",
       "      <th>9330</th>\n",
       "      <td>19-11-0018-46</td>\n",
       "      <td>19-020</td>\n",
       "      <td>ZACAPA</td>\n",
       "      <td>SAN_JORGE</td>\n",
       "      <td>INSTITUTO MIXTO DE EDUCACIӎ DIVERSIFICADA POR ...</td>\n",
       "      <td>BARRIO_EL_CENTRO</td>\n",
       "      <td>ALBA_LUZ_MENDEZ</td>\n",
       "      <td>VICTOR_HUGO_GUERRA_MONROY</td>\n",
       "      <td>DIVERSIFICADO</td>\n",
       "      <td>COOPERATIVA</td>\n",
       "      <td>URBANA</td>\n",
       "      <td>ABIERTA</td>\n",
       "      <td>MONOLINGUE</td>\n",
       "      <td>MATUTINA</td>\n",
       "      <td>DIARIO(REGULAR)</td>\n",
       "      <td>ZACAPA</td>\n",
       "      <td>INSTITUTO_MIXTO_DE_EDUCACION_DIVERSIFICADA_POR...</td>\n",
       "      <td>41447589</td>\n",
       "      <td>NaN</td>\n",
       "      <td>False</td>\n",
       "    </tr>\n",
       "  </tbody>\n",
       "</table>\n",
       "<p>9331 rows × 20 columns</p>\n",
       "</div>"
      ],
      "text/plain": [
       "             CODIGO DISTRITO  DEPARTAMENTO  MUNICIPIO  \\\n",
       "0     16-01-0138-46   16-031  ALTA_VERAPAZ      COBAN   \n",
       "1     16-01-0139-46   16-031  ALTA_VERAPAZ      COBAN   \n",
       "2     16-01-0140-46   16-031  ALTA_VERAPAZ      COBAN   \n",
       "3     16-01-0141-46   16-005  ALTA_VERAPAZ      COBAN   \n",
       "4     16-01-0142-46   16-005  ALTA_VERAPAZ      COBAN   \n",
       "...             ...      ...           ...        ...   \n",
       "9326  19-09-0040-46   19-021        ZACAPA   LA_UNION   \n",
       "9327  19-09-0048-46   19-021        ZACAPA   LA_UNION   \n",
       "9328  19-10-0013-46   19-015        ZACAPA      HUITE   \n",
       "9329  19-10-1009-46   19-015        ZACAPA      HUITE   \n",
       "9330  19-11-0018-46   19-020        ZACAPA  SAN_JORGE   \n",
       "\n",
       "                                        ESTABLECIMIENTO  \\\n",
       "0                                         COLEGIO COBAN   \n",
       "1                      COLEGIO PARTICULAR MIXTO VERAPAZ   \n",
       "2                               COLEGIO \"LA INMACULADA\"   \n",
       "3              ESCUELA NACIONAL DE CIENCIAS COMERCIALES   \n",
       "4     INSTITUTO NORMAL MIXTO DEL NORTE 'EMILIO ROSAL...   \n",
       "...                                                 ...   \n",
       "9326                     LICEO PARTICULAR MIXTO \"JIREH\"   \n",
       "9327                    LICEO PARTICULAR MIXTO \" JIREH\"   \n",
       "9328                            INSTITUTO DIVERSIFICADO   \n",
       "9329  INSTITUTO MIXTO DE EDUCACION DIVERSIFICADA POR...   \n",
       "9330  INSTITUTO MIXTO DE EDUCACIӎ DIVERSIFICADA POR ...   \n",
       "\n",
       "                                   DIRECCION                       SUPERVISOR  \\\n",
       "0     KM.2_SALIDA_A_SAN_JUAN_CHAMELCO_ZONA_8  MERCEDES_JOSEFINA_TORRES_GALVEZ   \n",
       "1               KM_209.5_ENTRADA_A_LA_CIUDAD  MERCEDES_JOSEFINA_TORRES_GALVEZ   \n",
       "2                      7A._AV._11-109_ZONA_6  MERCEDES_JOSEFINA_TORRES_GALVEZ   \n",
       "3                      2A_CALLE_11-10_ZONA_2              RUDY_ADOLFO_TOT_OCH   \n",
       "4                         3A_AV.6-23_ZONA_11              RUDY_ADOLFO_TOT_OCH   \n",
       "...                                      ...                              ...   \n",
       "9326                            BARRIO_NUEVO        ASBEL_IVAN_SUCHITE_ARROYO   \n",
       "9327                            BARRIO_NUEVO        ASBEL_IVAN_SUCHITE_ARROYO   \n",
       "9328                     BARRIO_BUENOS_AIRES       SILDY_MARIELA_PEREZ_FRANCO   \n",
       "9329                         BARRIO_EL_CAMPO       SILDY_MARIELA_PEREZ_FRANCO   \n",
       "9330                        BARRIO_EL_CENTRO                  ALBA_LUZ_MENDEZ   \n",
       "\n",
       "                            DIRECTOR          NIVEL       SECTOR    AREA  \\\n",
       "0          GUSTAVO_ADOLFO_SIERRA_POP  DIVERSIFICADO      PRIVADO  URBANA   \n",
       "1     GILMA_DOLORES_GUAY_PAZ_DE_LEAL  DIVERSIFICADO      PRIVADO  URBANA   \n",
       "2            VIRGINIA_SOLANO_SERRANO  DIVERSIFICADO      PRIVADO  URBANA   \n",
       "3           HECTOR_ROLANDO_CHUN_POOU  DIVERSIFICADO      OFICIAL  URBANA   \n",
       "4         VICTOR_HUGO_DOM͎GUEZ_REYES  DIVERSIFICADO      OFICIAL  URBANA   \n",
       "...                              ...            ...          ...     ...   \n",
       "9326        ANA_MARIA_CUELLAR_GUERRA  DIVERSIFICADO      PRIVADO  URBANA   \n",
       "9327        ANA_MARIA_CUELLAR_GUERRA  DIVERSIFICADO      PRIVADO  URBANA   \n",
       "9328     MARLON_JOSUƓARCHILA_LORENZO  DIVERSIFICADO      OFICIAL  URBANA   \n",
       "9329       ROBIDIO_PORTILLO_SALGUERO  DIVERSIFICADO  COOPERATIVA  URBANA   \n",
       "9330       VICTOR_HUGO_GUERRA_MONROY  DIVERSIFICADO  COOPERATIVA  URBANA   \n",
       "\n",
       "       STATUS   MODALIDAD      JORNADA                               PLAN  \\\n",
       "0     ABIERTA  MONOLINGUE     MATUTINA                    DIARIO(REGULAR)   \n",
       "1     ABIERTA  MONOLINGUE     MATUTINA                    DIARIO(REGULAR)   \n",
       "2     ABIERTA  MONOLINGUE     MATUTINA                    DIARIO(REGULAR)   \n",
       "3     ABIERTA  MONOLINGUE     MATUTINA                    DIARIO(REGULAR)   \n",
       "4     ABIERTA    BILINGUE   VESPERTINA                    DIARIO(REGULAR)   \n",
       "...       ...         ...          ...                                ...   \n",
       "9326  ABIERTA  MONOLINGUE     MATUTINA                    DIARIO(REGULAR)   \n",
       "9327  ABIERTA  MONOLINGUE  SIN JORNADA  SEMIPRESENCIAL_(UN_DIA_LA_SEMANA)   \n",
       "9328  ABIERTA  MONOLINGUE     NOCTURNA                    DIARIO(REGULAR)   \n",
       "9329  ABIERTA  MONOLINGUE   VESPERTINA                    DIARIO(REGULAR)   \n",
       "9330  ABIERTA  MONOLINGUE     MATUTINA                    DIARIO(REGULAR)   \n",
       "\n",
       "     DEPARTAMENTAL                                      ESTABLISHMENT  \\\n",
       "0     ALTA_VERAPAZ                                      COLEGIO_COBAN   \n",
       "1     ALTA_VERAPAZ                   COLEGIO_PARTICULAR_MIXTO_VERAPAZ   \n",
       "2     ALTA_VERAPAZ                              COLEGIO_LA_INMACULADA   \n",
       "3     ALTA_VERAPAZ           ESCUELA_NACIONAL_DE_CIENCIAS_COMERCIALES   \n",
       "4     ALTA_VERAPAZ  INSTITUTO_NORMAL_MIXTO_DEL_NORTE_EMILIO_ROSALE...   \n",
       "...            ...                                                ...   \n",
       "9326        ZACAPA                       LICEO_PARTICULAR_MIXTO_JIREH   \n",
       "9327        ZACAPA                       LICEO_PARTICULAR_MIXTO_JIREH   \n",
       "9328        ZACAPA                            INSTITUTO_DIVERSIFICADO   \n",
       "9329        ZACAPA  INSTITUTO_MIXTO_DE_EDUCACION_DIVERSIFICADA_POR...   \n",
       "9330        ZACAPA  INSTITUTO_MIXTO_DE_EDUCACION_DIVERSIFICADA_POR...   \n",
       "\n",
       "     TELEFONO_PRIMERO TELEFONO_SEGUNDO  POR_MADUREZ  \n",
       "0            77945104              NaN        False  \n",
       "1            77367402              NaN        False  \n",
       "2            78232301              NaN        False  \n",
       "3            79514215              NaN        False  \n",
       "4            79521468              NaN        False  \n",
       "...               ...              ...          ...  \n",
       "9326         79418369              NaN        False  \n",
       "9327         79418369              NaN        False  \n",
       "9328         47097386              NaN        False  \n",
       "9329         55958103              NaN        False  \n",
       "9330         41447589              NaN        False  \n",
       "\n",
       "[9331 rows x 20 columns]"
      ]
     },
     "execution_count": 860,
     "metadata": {},
     "output_type": "execute_result"
    }
   ],
   "source": [
    "education.to_csv('education_cleaned.csv', index=False)\n",
    "education"
   ]
  }
 ],
 "metadata": {
  "kernelspec": {
   "display_name": "Python 3",
   "language": "python",
   "name": "python3"
  },
  "language_info": {
   "codemirror_mode": {
    "name": "ipython",
    "version": 3
   },
   "file_extension": ".py",
   "mimetype": "text/x-python",
   "name": "python",
   "nbconvert_exporter": "python",
   "pygments_lexer": "ipython3",
   "version": "3.11.0"
  }
 },
 "nbformat": 4,
 "nbformat_minor": 2
}
